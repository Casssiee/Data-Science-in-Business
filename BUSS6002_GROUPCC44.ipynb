{
 "cells": [
  {
   "cell_type": "markdown",
   "metadata": {},
   "source": [
    "## Part 0 . Description\n",
    "------------------------\n",
    "To explore the driven affectors such as the number of days since the pop_up store opened, Seasonal factors **(such as day-of-the-week and hour-of-the-day)** , and location of study area and whether it is raining affect the hourly coffee sales, we will analyse the relative data and draw a conclusion based on the below inspection."
   ]
  },
  {
   "cell_type": "markdown",
   "metadata": {},
   "source": [
    "## Part 1. Load the Data\n",
    "----------------------------"
   ]
  },
  {
   "cell_type": "markdown",
   "metadata": {},
   "source": [
    "### 1.1 Import packages"
   ]
  },
  {
   "cell_type": "code",
   "execution_count": 114,
   "metadata": {},
   "outputs": [],
   "source": [
    "import sqlite3\n",
    "import math\n",
    "import pandas as pd\n",
    "import numpy as np\n",
    "from scipy.stats import linregress\n",
    "import scipy.stats as stats\n",
    "import sklearn.metrics as metrics\n",
    "from sklearn.model_selection import train_test_split\n",
    "from sklearn.linear_model import LinearRegression\n",
    "import matplotlib.pyplot as plt\n",
    "from sklearn.metrics import r2_score\n",
    "from sklearn.metrics import mean_squared_error as mse \n",
    "import statsmodels.api as sm\n",
    "from scipy.stats import kurtosis, skew"
   ]
  },
  {
   "cell_type": "markdown",
   "metadata": {},
   "source": [
    "### 1.2 Load the Data"
   ]
  },
  {
   "cell_type": "code",
   "execution_count": 115,
   "metadata": {},
   "outputs": [],
   "source": [
    "# Connect with database\n",
    "conn = sqlite3.connect('cafe_insomnia.sqlite')\n",
    "\n",
    "# Connect to the data in sqlite3 \n",
    "Transaction = pd.read_sql('SELECT * FROM ci_transaction;',conn)\n",
    "Drink = pd.read_sql('SELECT * FROM drink;',conn)\n",
    "Study_area = pd.read_sql('SELECT * FROM study_area;', conn)\n"
   ]
  },
  {
   "cell_type": "markdown",
   "metadata": {},
   "source": [
    "## Part 2. Find useful variables\n",
    "-------------------"
   ]
  },
  {
   "cell_type": "markdown",
   "metadata": {},
   "source": [
    "## Define the Variables"
   ]
  },
  {
   "cell_type": "markdown",
   "metadata": {},
   "source": [
    "To successfully analyse the relationship between the seasonal factors (such as day-of-the-week and hour-of-the-day) and hourly sales, I perform a query to record useful details of each transaction. From the beginning, I define the hourly sales as the multiply quantity that customers ordered and the price of each item they purchased."
   ]
  },
  {
   "cell_type": "markdown",
   "metadata": {},
   "source": [
    "## Target - Hourly Sales\n",
    "- *Quantity * Unit Price = Sales per Transaction*\n",
    "\n",
    "Due to we have multiple transactions in one hour, hence after I calculate the sales for each transaction, I will make a further adjustment of hourly sales."
   ]
  },
  {
   "cell_type": "code",
   "execution_count": 116,
   "metadata": {
    "scrolled": true
   },
   "outputs": [],
   "source": [
    "query = '''SELECT t.date,\n",
    "                  t.day_of_week,\n",
    "                  t.days_after_open,\n",
    "                  t.hours_after_open,\n",
    "                  t.quantity,\n",
    "                  t.raining,\n",
    "                  dist_to_cafe,\n",
    "                  d.name, \n",
    "                  d.unit_price\n",
    "           FROM ci_transaction t\n",
    "           JOIN study_area s\n",
    "            ON t.study_area_id = s.id\n",
    "           JOIN drink d\n",
    "           ON t.drink_id = d.id;'''\n",
    "\n",
    "combine = pd.read_sql(query,conn)"
   ]
  },
  {
   "cell_type": "code",
   "execution_count": 117,
   "metadata": {},
   "outputs": [],
   "source": [
    "cl = pd.read_sql('''SELECT c.id as cid, date, days_after_open, day_of_week, hours_after_open, drink_id, quantity, raining, study_area_id,s.name as study_name, dist_to_cafe, d.name as drink_name, unit_price\n",
    "                            FROM ci_transaction c\n",
    "                            JOIN study_area s\n",
    "                            ON c.study_area_id = s.id\n",
    "                            JOIN drink d\n",
    "                            ON c.drink_id = d.id\n",
    "                            ORDER BY c.hours_after_open ASC;''', conn)"
   ]
  },
  {
   "cell_type": "code",
   "execution_count": 118,
   "metadata": {},
   "outputs": [],
   "source": [
    "combine['Sales (AUD)'] = combine['quantity'] * combine['unit_price']\n",
    "# combine"
   ]
  },
  {
   "cell_type": "code",
   "execution_count": 119,
   "metadata": {
    "scrolled": true
   },
   "outputs": [],
   "source": [
    "combine['Daily_transaction'] = combine['date'] + '/' + combine['hours_after_open'].astype(str)\n",
    "# print(combine['Daily_transaction'])"
   ]
  },
  {
   "cell_type": "markdown",
   "metadata": {},
   "source": [
    "--------------------"
   ]
  },
  {
   "cell_type": "code",
   "execution_count": 120,
   "metadata": {},
   "outputs": [
    {
     "data": {
      "text/html": [
       "<div>\n",
       "<style scoped>\n",
       "    .dataframe tbody tr th:only-of-type {\n",
       "        vertical-align: middle;\n",
       "    }\n",
       "\n",
       "    .dataframe tbody tr th {\n",
       "        vertical-align: top;\n",
       "    }\n",
       "\n",
       "    .dataframe thead th {\n",
       "        text-align: right;\n",
       "    }\n",
       "</style>\n",
       "<table border=\"1\" class=\"dataframe\">\n",
       "  <thead>\n",
       "    <tr style=\"text-align: right;\">\n",
       "      <th></th>\n",
       "      <th>cid</th>\n",
       "      <th>date</th>\n",
       "      <th>days_after_open</th>\n",
       "      <th>day_of_week</th>\n",
       "      <th>hours_after_open</th>\n",
       "      <th>drink_id</th>\n",
       "      <th>quantity</th>\n",
       "      <th>raining</th>\n",
       "      <th>study_area_id</th>\n",
       "      <th>study_name</th>\n",
       "      <th>dist_to_cafe</th>\n",
       "      <th>drink_name</th>\n",
       "      <th>unit_price</th>\n",
       "    </tr>\n",
       "  </thead>\n",
       "  <tbody>\n",
       "    <tr>\n",
       "      <th>0</th>\n",
       "      <td>0</td>\n",
       "      <td>2019-07-22</td>\n",
       "      <td>0</td>\n",
       "      <td>Mon</td>\n",
       "      <td>0</td>\n",
       "      <td>5</td>\n",
       "      <td>1</td>\n",
       "      <td>No</td>\n",
       "      <td>3</td>\n",
       "      <td>Abercrombie (H70)</td>\n",
       "      <td>700</td>\n",
       "      <td>Flat White (L)</td>\n",
       "      <td>4.9</td>\n",
       "    </tr>\n",
       "    <tr>\n",
       "      <th>1</th>\n",
       "      <td>1</td>\n",
       "      <td>2019-07-22</td>\n",
       "      <td>0</td>\n",
       "      <td>Mon</td>\n",
       "      <td>0</td>\n",
       "      <td>5</td>\n",
       "      <td>1</td>\n",
       "      <td>No</td>\n",
       "      <td>1</td>\n",
       "      <td>Law Library (F10)</td>\n",
       "      <td>84</td>\n",
       "      <td>Flat White (L)</td>\n",
       "      <td>4.9</td>\n",
       "    </tr>\n",
       "    <tr>\n",
       "      <th>2</th>\n",
       "      <td>2</td>\n",
       "      <td>2019-07-22</td>\n",
       "      <td>0</td>\n",
       "      <td>Mon</td>\n",
       "      <td>0</td>\n",
       "      <td>2</td>\n",
       "      <td>1</td>\n",
       "      <td>No</td>\n",
       "      <td>5</td>\n",
       "      <td>Carslaw (F07)</td>\n",
       "      <td>150</td>\n",
       "      <td>Macchiato</td>\n",
       "      <td>3.8</td>\n",
       "    </tr>\n",
       "    <tr>\n",
       "      <th>3</th>\n",
       "      <td>3</td>\n",
       "      <td>2019-07-22</td>\n",
       "      <td>0</td>\n",
       "      <td>Mon</td>\n",
       "      <td>0</td>\n",
       "      <td>2</td>\n",
       "      <td>1</td>\n",
       "      <td>No</td>\n",
       "      <td>6</td>\n",
       "      <td>Peter Nicol Russell (PNR)</td>\n",
       "      <td>950</td>\n",
       "      <td>Macchiato</td>\n",
       "      <td>3.8</td>\n",
       "    </tr>\n",
       "    <tr>\n",
       "      <th>4</th>\n",
       "      <td>4</td>\n",
       "      <td>2019-07-22</td>\n",
       "      <td>0</td>\n",
       "      <td>Mon</td>\n",
       "      <td>0</td>\n",
       "      <td>5</td>\n",
       "      <td>1</td>\n",
       "      <td>No</td>\n",
       "      <td>5</td>\n",
       "      <td>Carslaw (F07)</td>\n",
       "      <td>150</td>\n",
       "      <td>Flat White (L)</td>\n",
       "      <td>4.9</td>\n",
       "    </tr>\n",
       "    <tr>\n",
       "      <th>...</th>\n",
       "      <td>...</td>\n",
       "      <td>...</td>\n",
       "      <td>...</td>\n",
       "      <td>...</td>\n",
       "      <td>...</td>\n",
       "      <td>...</td>\n",
       "      <td>...</td>\n",
       "      <td>...</td>\n",
       "      <td>...</td>\n",
       "      <td>...</td>\n",
       "      <td>...</td>\n",
       "      <td>...</td>\n",
       "      <td>...</td>\n",
       "    </tr>\n",
       "    <tr>\n",
       "      <th>27166</th>\n",
       "      <td>27709</td>\n",
       "      <td>2019-12-22</td>\n",
       "      <td>153</td>\n",
       "      <td>Sun</td>\n",
       "      <td>5</td>\n",
       "      <td>14</td>\n",
       "      <td>2</td>\n",
       "      <td>No</td>\n",
       "      <td>3</td>\n",
       "      <td>Abercrombie (H70)</td>\n",
       "      <td>700</td>\n",
       "      <td>Mocha (S)</td>\n",
       "      <td>4.5</td>\n",
       "    </tr>\n",
       "    <tr>\n",
       "      <th>27167</th>\n",
       "      <td>27710</td>\n",
       "      <td>2019-12-22</td>\n",
       "      <td>153</td>\n",
       "      <td>Sun</td>\n",
       "      <td>5</td>\n",
       "      <td>6</td>\n",
       "      <td>1</td>\n",
       "      <td>No</td>\n",
       "      <td>3</td>\n",
       "      <td>Abercrombie (H70)</td>\n",
       "      <td>700</td>\n",
       "      <td>Flat White (S)</td>\n",
       "      <td>4.0</td>\n",
       "    </tr>\n",
       "    <tr>\n",
       "      <th>27168</th>\n",
       "      <td>27711</td>\n",
       "      <td>2019-12-22</td>\n",
       "      <td>153</td>\n",
       "      <td>Sun</td>\n",
       "      <td>5</td>\n",
       "      <td>12</td>\n",
       "      <td>1</td>\n",
       "      <td>No</td>\n",
       "      <td>0</td>\n",
       "      <td>Fisher Library (F03)</td>\n",
       "      <td>70</td>\n",
       "      <td>Chai Latte (S)</td>\n",
       "      <td>3.6</td>\n",
       "    </tr>\n",
       "    <tr>\n",
       "      <th>27169</th>\n",
       "      <td>27712</td>\n",
       "      <td>2019-12-22</td>\n",
       "      <td>153</td>\n",
       "      <td>Sun</td>\n",
       "      <td>5</td>\n",
       "      <td>9</td>\n",
       "      <td>1</td>\n",
       "      <td>No</td>\n",
       "      <td>4</td>\n",
       "      <td>Brennan MacCallum (A18)</td>\n",
       "      <td>350</td>\n",
       "      <td>Cappuccino (L)</td>\n",
       "      <td>4.9</td>\n",
       "    </tr>\n",
       "    <tr>\n",
       "      <th>27170</th>\n",
       "      <td>27713</td>\n",
       "      <td>2019-12-22</td>\n",
       "      <td>153</td>\n",
       "      <td>Sun</td>\n",
       "      <td>5</td>\n",
       "      <td>9</td>\n",
       "      <td>1</td>\n",
       "      <td>No</td>\n",
       "      <td>3</td>\n",
       "      <td>Abercrombie (H70)</td>\n",
       "      <td>700</td>\n",
       "      <td>Cappuccino (L)</td>\n",
       "      <td>4.9</td>\n",
       "    </tr>\n",
       "  </tbody>\n",
       "</table>\n",
       "<p>27171 rows × 13 columns</p>\n",
       "</div>"
      ],
      "text/plain": [
       "         cid        date  days_after_open day_of_week  hours_after_open  \\\n",
       "0          0  2019-07-22                0         Mon                 0   \n",
       "1          1  2019-07-22                0         Mon                 0   \n",
       "2          2  2019-07-22                0         Mon                 0   \n",
       "3          3  2019-07-22                0         Mon                 0   \n",
       "4          4  2019-07-22                0         Mon                 0   \n",
       "...      ...         ...              ...         ...               ...   \n",
       "27166  27709  2019-12-22              153         Sun                 5   \n",
       "27167  27710  2019-12-22              153         Sun                 5   \n",
       "27168  27711  2019-12-22              153         Sun                 5   \n",
       "27169  27712  2019-12-22              153         Sun                 5   \n",
       "27170  27713  2019-12-22              153         Sun                 5   \n",
       "\n",
       "       drink_id  quantity raining  study_area_id                 study_name  \\\n",
       "0             5         1      No              3          Abercrombie (H70)   \n",
       "1             5         1      No              1          Law Library (F10)   \n",
       "2             2         1      No              5              Carslaw (F07)   \n",
       "3             2         1      No              6  Peter Nicol Russell (PNR)   \n",
       "4             5         1      No              5              Carslaw (F07)   \n",
       "...         ...       ...     ...            ...                        ...   \n",
       "27166        14         2      No              3          Abercrombie (H70)   \n",
       "27167         6         1      No              3          Abercrombie (H70)   \n",
       "27168        12         1      No              0       Fisher Library (F03)   \n",
       "27169         9         1      No              4    Brennan MacCallum (A18)   \n",
       "27170         9         1      No              3          Abercrombie (H70)   \n",
       "\n",
       "       dist_to_cafe      drink_name  unit_price  \n",
       "0               700  Flat White (L)         4.9  \n",
       "1                84  Flat White (L)         4.9  \n",
       "2               150       Macchiato         3.8  \n",
       "3               950       Macchiato         3.8  \n",
       "4               150  Flat White (L)         4.9  \n",
       "...             ...             ...         ...  \n",
       "27166           700       Mocha (S)         4.5  \n",
       "27167           700  Flat White (S)         4.0  \n",
       "27168            70  Chai Latte (S)         3.6  \n",
       "27169           350  Cappuccino (L)         4.9  \n",
       "27170           700  Cappuccino (L)         4.9  \n",
       "\n",
       "[27171 rows x 13 columns]"
      ]
     },
     "execution_count": 120,
     "metadata": {},
     "output_type": "execute_result"
    }
   ],
   "source": [
    "cl"
   ]
  },
  {
   "cell_type": "code",
   "execution_count": 121,
   "metadata": {},
   "outputs": [
    {
     "name": "stdout",
     "output_type": "stream",
     "text": [
      "(27171, 13)\n"
     ]
    }
   ],
   "source": [
    "print(cl.shape)"
   ]
  },
  {
   "cell_type": "code",
   "execution_count": 122,
   "metadata": {},
   "outputs": [
    {
     "data": {
      "text/html": [
       "<div>\n",
       "<style scoped>\n",
       "    .dataframe tbody tr th:only-of-type {\n",
       "        vertical-align: middle;\n",
       "    }\n",
       "\n",
       "    .dataframe tbody tr th {\n",
       "        vertical-align: top;\n",
       "    }\n",
       "\n",
       "    .dataframe thead th {\n",
       "        text-align: right;\n",
       "    }\n",
       "</style>\n",
       "<table border=\"1\" class=\"dataframe\">\n",
       "  <thead>\n",
       "    <tr style=\"text-align: right;\">\n",
       "      <th></th>\n",
       "      <th>cid</th>\n",
       "      <th>days_after_open</th>\n",
       "      <th>hours_after_open</th>\n",
       "      <th>drink_id</th>\n",
       "      <th>quantity</th>\n",
       "      <th>study_area_id</th>\n",
       "      <th>dist_to_cafe</th>\n",
       "      <th>unit_price</th>\n",
       "    </tr>\n",
       "  </thead>\n",
       "  <tbody>\n",
       "    <tr>\n",
       "      <th>count</th>\n",
       "      <td>27171.000000</td>\n",
       "      <td>27171.000000</td>\n",
       "      <td>27171.000000</td>\n",
       "      <td>27171.000000</td>\n",
       "      <td>27171.000000</td>\n",
       "      <td>27171.000000</td>\n",
       "      <td>27171.000000</td>\n",
       "      <td>27171.000000</td>\n",
       "    </tr>\n",
       "    <tr>\n",
       "      <th>mean</th>\n",
       "      <td>13853.333002</td>\n",
       "      <td>107.558868</td>\n",
       "      <td>2.376652</td>\n",
       "      <td>8.032829</td>\n",
       "      <td>1.267381</td>\n",
       "      <td>2.229841</td>\n",
       "      <td>243.756505</td>\n",
       "      <td>4.204873</td>\n",
       "    </tr>\n",
       "    <tr>\n",
       "      <th>std</th>\n",
       "      <td>7996.182672</td>\n",
       "      <td>36.822247</td>\n",
       "      <td>1.682285</td>\n",
       "      <td>4.873674</td>\n",
       "      <td>0.614285</td>\n",
       "      <td>2.104989</td>\n",
       "      <td>267.166341</td>\n",
       "      <td>0.566823</td>\n",
       "    </tr>\n",
       "    <tr>\n",
       "      <th>min</th>\n",
       "      <td>0.000000</td>\n",
       "      <td>0.000000</td>\n",
       "      <td>0.000000</td>\n",
       "      <td>0.000000</td>\n",
       "      <td>1.000000</td>\n",
       "      <td>0.000000</td>\n",
       "      <td>70.000000</td>\n",
       "      <td>3.300000</td>\n",
       "    </tr>\n",
       "    <tr>\n",
       "      <th>25%</th>\n",
       "      <td>6934.500000</td>\n",
       "      <td>89.000000</td>\n",
       "      <td>1.000000</td>\n",
       "      <td>4.000000</td>\n",
       "      <td>1.000000</td>\n",
       "      <td>0.000000</td>\n",
       "      <td>70.000000</td>\n",
       "      <td>3.800000</td>\n",
       "    </tr>\n",
       "    <tr>\n",
       "      <th>50%</th>\n",
       "      <td>13844.000000</td>\n",
       "      <td>117.000000</td>\n",
       "      <td>2.000000</td>\n",
       "      <td>8.000000</td>\n",
       "      <td>1.000000</td>\n",
       "      <td>1.000000</td>\n",
       "      <td>84.000000</td>\n",
       "      <td>4.000000</td>\n",
       "    </tr>\n",
       "    <tr>\n",
       "      <th>75%</th>\n",
       "      <td>20775.500000</td>\n",
       "      <td>136.000000</td>\n",
       "      <td>4.000000</td>\n",
       "      <td>12.000000</td>\n",
       "      <td>1.000000</td>\n",
       "      <td>4.000000</td>\n",
       "      <td>350.000000</td>\n",
       "      <td>4.600000</td>\n",
       "    </tr>\n",
       "    <tr>\n",
       "      <th>max</th>\n",
       "      <td>27713.000000</td>\n",
       "      <td>153.000000</td>\n",
       "      <td>5.000000</td>\n",
       "      <td>16.000000</td>\n",
       "      <td>4.000000</td>\n",
       "      <td>6.000000</td>\n",
       "      <td>950.000000</td>\n",
       "      <td>5.400000</td>\n",
       "    </tr>\n",
       "  </tbody>\n",
       "</table>\n",
       "</div>"
      ],
      "text/plain": [
       "                cid  days_after_open  hours_after_open      drink_id  \\\n",
       "count  27171.000000     27171.000000      27171.000000  27171.000000   \n",
       "mean   13853.333002       107.558868          2.376652      8.032829   \n",
       "std     7996.182672        36.822247          1.682285      4.873674   \n",
       "min        0.000000         0.000000          0.000000      0.000000   \n",
       "25%     6934.500000        89.000000          1.000000      4.000000   \n",
       "50%    13844.000000       117.000000          2.000000      8.000000   \n",
       "75%    20775.500000       136.000000          4.000000     12.000000   \n",
       "max    27713.000000       153.000000          5.000000     16.000000   \n",
       "\n",
       "           quantity  study_area_id  dist_to_cafe    unit_price  \n",
       "count  27171.000000   27171.000000  27171.000000  27171.000000  \n",
       "mean       1.267381       2.229841    243.756505      4.204873  \n",
       "std        0.614285       2.104989    267.166341      0.566823  \n",
       "min        1.000000       0.000000     70.000000      3.300000  \n",
       "25%        1.000000       0.000000     70.000000      3.800000  \n",
       "50%        1.000000       1.000000     84.000000      4.000000  \n",
       "75%        1.000000       4.000000    350.000000      4.600000  \n",
       "max        4.000000       6.000000    950.000000      5.400000  "
      ]
     },
     "execution_count": 122,
     "metadata": {},
     "output_type": "execute_result"
    }
   ],
   "source": [
    "cl.describe()"
   ]
  },
  {
   "cell_type": "code",
   "execution_count": 123,
   "metadata": {},
   "outputs": [
    {
     "name": "stdout",
     "output_type": "stream",
     "text": [
      "<class 'pandas.core.frame.DataFrame'>\n",
      "RangeIndex: 27171 entries, 0 to 27170\n",
      "Data columns (total 13 columns):\n",
      " #   Column            Non-Null Count  Dtype  \n",
      "---  ------            --------------  -----  \n",
      " 0   cid               27171 non-null  int64  \n",
      " 1   date              27171 non-null  object \n",
      " 2   days_after_open   27171 non-null  int64  \n",
      " 3   day_of_week       27171 non-null  object \n",
      " 4   hours_after_open  27171 non-null  int64  \n",
      " 5   drink_id          27171 non-null  int64  \n",
      " 6   quantity          27171 non-null  int64  \n",
      " 7   raining           27171 non-null  object \n",
      " 8   study_area_id     27171 non-null  int64  \n",
      " 9   study_name        27171 non-null  object \n",
      " 10  dist_to_cafe      27171 non-null  int64  \n",
      " 11  drink_name        27171 non-null  object \n",
      " 12  unit_price        27171 non-null  float64\n",
      "dtypes: float64(1), int64(7), object(5)\n",
      "memory usage: 2.7+ MB\n"
     ]
    }
   ],
   "source": [
    "cl.info()"
   ]
  },
  {
   "cell_type": "code",
   "execution_count": 124,
   "metadata": {},
   "outputs": [
    {
     "data": {
      "text/plain": [
       "<bound method DataFrame.info of           id        date  days_after_open day_of_week  hours_after_open  \\\n",
       "0          0  2019-07-22                0         Mon                 0   \n",
       "1          1  2019-07-22                0         Mon                 0   \n",
       "2          2  2019-07-22                0         Mon                 0   \n",
       "3          3  2019-07-22                0         Mon                 0   \n",
       "4          4  2019-07-22                0         Mon                 0   \n",
       "...      ...         ...              ...         ...               ...   \n",
       "27709  27709  2019-12-22              153         Sun                 5   \n",
       "27710  27710  2019-12-22              153         Sun                 5   \n",
       "27711  27711  2019-12-22              153         Sun                 5   \n",
       "27712  27712  2019-12-22              153         Sun                 5   \n",
       "27713  27713  2019-12-22              153         Sun                 5   \n",
       "\n",
       "       drink_id  quantity raining  study_area_id  \n",
       "0             5         1      No              3  \n",
       "1             5         1      No              1  \n",
       "2             2         1      No              5  \n",
       "3             2         1      No              6  \n",
       "4             5         1      No              5  \n",
       "...         ...       ...     ...            ...  \n",
       "27709        14         2      No              3  \n",
       "27710         6         1      No              3  \n",
       "27711        12         1      No              0  \n",
       "27712         9         1      No              4  \n",
       "27713         9         1      No              3  \n",
       "\n",
       "[27714 rows x 9 columns]>"
      ]
     },
     "execution_count": 124,
     "metadata": {},
     "output_type": "execute_result"
    }
   ],
   "source": [
    "Transaction.info"
   ]
  },
  {
   "cell_type": "code",
   "execution_count": 125,
   "metadata": {},
   "outputs": [
    {
     "data": {
      "text/plain": [
       "Fisher Library (F03)         7544\n",
       "Law Library (F10)            6917\n",
       "Carslaw (F07)                4728\n",
       "Abercrombie (H70)            2024\n",
       "Peter Nicol Russell (PNR)    2009\n",
       "Brennan MacCallum (A18)      2003\n",
       "The Quarter (A16)            1946\n",
       "Name: study_name, dtype: int64"
      ]
     },
     "execution_count": 125,
     "metadata": {},
     "output_type": "execute_result"
    }
   ],
   "source": [
    "cl['study_name'].value_counts()"
   ]
  },
  {
   "cell_type": "code",
   "execution_count": 126,
   "metadata": {},
   "outputs": [
    {
     "data": {
      "text/plain": [
       "Flat White (S)       1649\n",
       "Cappuccino (L)       1641\n",
       "Long Black (S)       1638\n",
       "Chai Latte (S)       1634\n",
       "Mocha (S)            1633\n",
       "Macchiato            1630\n",
       "Hot Chocolate (L)    1629\n",
       "Mocha (L)            1609\n",
       "Chai Latte (L)       1601\n",
       "Flat White (L)       1598\n",
       "Latte (S)            1596\n",
       "Cappuccino (S)       1591\n",
       "Long Black (L)       1570\n",
       "Latte (L)            1562\n",
       "Espresso             1560\n",
       "Hot Chocolate (S)    1534\n",
       "Ristretto            1496\n",
       "Name: drink_name, dtype: int64"
      ]
     },
     "execution_count": 126,
     "metadata": {},
     "output_type": "execute_result"
    }
   ],
   "source": [
    "cl['drink_name'].value_counts()"
   ]
  },
  {
   "cell_type": "code",
   "execution_count": 127,
   "metadata": {},
   "outputs": [
    {
     "data": {
      "text/plain": [
       "70     7544\n",
       "84     6917\n",
       "150    4728\n",
       "700    2024\n",
       "950    2009\n",
       "350    2003\n",
       "400    1946\n",
       "Name: dist_to_cafe, dtype: int64"
      ]
     },
     "execution_count": 127,
     "metadata": {},
     "output_type": "execute_result"
    }
   ],
   "source": [
    "cl['dist_to_cafe'].value_counts()"
   ]
  },
  {
   "cell_type": "code",
   "execution_count": 128,
   "metadata": {},
   "outputs": [
    {
     "name": "stdout",
     "output_type": "stream",
     "text": [
      "cid\n",
      "date\n",
      "days_after_open\n",
      "day_of_week\n",
      "hours_after_open\n",
      "drink_id\n",
      "quantity\n",
      "raining\n",
      "study_area_id\n",
      "study_name\n",
      "dist_to_cafe\n",
      "drink_name\n",
      "unit_price\n",
      "Daily_transaction\n",
      "Sales (AUD)\n"
     ]
    }
   ],
   "source": [
    "cl['Daily_transaction'] = cl['date'] + '/' + cl['hours_after_open'].astype(str)\n",
    "cl['Sales (AUD)'] = cl['quantity'] * cl['unit_price']\n",
    "for col in cl.columns:\n",
    "    print(col)\n",
    "#https://www.geeksforgeeks.org/how-to-get-column-names-in-pandas-dataframe/\n",
    "\n",
    "cl_Weekday_dummy = pd.get_dummies(cl.iloc[:,[3,7]], drop_first = True)\n",
    "cl_without_sales = pd.concat([cl.iloc[:,[-2,4,-5]],cl_Weekday_dummy], axis = 1)\n",
    "cl_without_sales = cl_without_sales.groupby('Daily_transaction').mean()\n",
    "cl_hourly_sales = cl.groupby('Daily_transaction').sum()['Sales (AUD)']\n",
    "cl_regression = pd.concat([cl_without_sales,cl_hourly_sales], axis = 1)\n",
    "# display(cl_regression)"
   ]
  },
  {
   "cell_type": "code",
   "execution_count": 129,
   "metadata": {},
   "outputs": [],
   "source": [
    "cl_regression.reset_index(inplace = True)\n",
    "cl_regression.reset_index(inplace = True)"
   ]
  },
  {
   "cell_type": "code",
   "execution_count": 130,
   "metadata": {},
   "outputs": [
    {
     "data": {
      "text/html": [
       "<div>\n",
       "<style scoped>\n",
       "    .dataframe tbody tr th:only-of-type {\n",
       "        vertical-align: middle;\n",
       "    }\n",
       "\n",
       "    .dataframe tbody tr th {\n",
       "        vertical-align: top;\n",
       "    }\n",
       "\n",
       "    .dataframe thead th {\n",
       "        text-align: right;\n",
       "    }\n",
       "</style>\n",
       "<table border=\"1\" class=\"dataframe\">\n",
       "  <thead>\n",
       "    <tr style=\"text-align: right;\">\n",
       "      <th></th>\n",
       "      <th>hours_open_till_enddate</th>\n",
       "      <th>Daily_transaction</th>\n",
       "      <th>hours_after_open</th>\n",
       "      <th>dist_to_cafe</th>\n",
       "      <th>day_of_week_Mon</th>\n",
       "      <th>day_of_week_Sat</th>\n",
       "      <th>day_of_week_Sun</th>\n",
       "      <th>day_of_week_Thu</th>\n",
       "      <th>day_of_week_Tue</th>\n",
       "      <th>day_of_week_Wed</th>\n",
       "      <th>raining_Yes</th>\n",
       "      <th>Sales (AUD)</th>\n",
       "    </tr>\n",
       "  </thead>\n",
       "  <tbody>\n",
       "    <tr>\n",
       "      <th>0</th>\n",
       "      <td>0</td>\n",
       "      <td>2019-07-22/0</td>\n",
       "      <td>0.0</td>\n",
       "      <td>264.363636</td>\n",
       "      <td>1</td>\n",
       "      <td>0</td>\n",
       "      <td>0</td>\n",
       "      <td>0</td>\n",
       "      <td>0</td>\n",
       "      <td>0</td>\n",
       "      <td>0</td>\n",
       "      <td>49.0</td>\n",
       "    </tr>\n",
       "    <tr>\n",
       "      <th>1</th>\n",
       "      <td>1</td>\n",
       "      <td>2019-07-22/1</td>\n",
       "      <td>1.0</td>\n",
       "      <td>246.769231</td>\n",
       "      <td>1</td>\n",
       "      <td>0</td>\n",
       "      <td>0</td>\n",
       "      <td>0</td>\n",
       "      <td>0</td>\n",
       "      <td>0</td>\n",
       "      <td>0</td>\n",
       "      <td>83.6</td>\n",
       "    </tr>\n",
       "    <tr>\n",
       "      <th>2</th>\n",
       "      <td>2</td>\n",
       "      <td>2019-07-22/2</td>\n",
       "      <td>2.0</td>\n",
       "      <td>77.000000</td>\n",
       "      <td>1</td>\n",
       "      <td>0</td>\n",
       "      <td>0</td>\n",
       "      <td>0</td>\n",
       "      <td>0</td>\n",
       "      <td>0</td>\n",
       "      <td>1</td>\n",
       "      <td>37.3</td>\n",
       "    </tr>\n",
       "    <tr>\n",
       "      <th>3</th>\n",
       "      <td>3</td>\n",
       "      <td>2019-07-22/3</td>\n",
       "      <td>3.0</td>\n",
       "      <td>471.000000</td>\n",
       "      <td>1</td>\n",
       "      <td>0</td>\n",
       "      <td>0</td>\n",
       "      <td>0</td>\n",
       "      <td>0</td>\n",
       "      <td>0</td>\n",
       "      <td>0</td>\n",
       "      <td>50.6</td>\n",
       "    </tr>\n",
       "    <tr>\n",
       "      <th>4</th>\n",
       "      <td>4</td>\n",
       "      <td>2019-07-22/4</td>\n",
       "      <td>4.0</td>\n",
       "      <td>101.333333</td>\n",
       "      <td>1</td>\n",
       "      <td>0</td>\n",
       "      <td>0</td>\n",
       "      <td>0</td>\n",
       "      <td>0</td>\n",
       "      <td>0</td>\n",
       "      <td>1</td>\n",
       "      <td>16.1</td>\n",
       "    </tr>\n",
       "    <tr>\n",
       "      <th>...</th>\n",
       "      <td>...</td>\n",
       "      <td>...</td>\n",
       "      <td>...</td>\n",
       "      <td>...</td>\n",
       "      <td>...</td>\n",
       "      <td>...</td>\n",
       "      <td>...</td>\n",
       "      <td>...</td>\n",
       "      <td>...</td>\n",
       "      <td>...</td>\n",
       "      <td>...</td>\n",
       "      <td>...</td>\n",
       "    </tr>\n",
       "    <tr>\n",
       "      <th>919</th>\n",
       "      <td>919</td>\n",
       "      <td>2019-12-22/1</td>\n",
       "      <td>1.0</td>\n",
       "      <td>274.741935</td>\n",
       "      <td>0</td>\n",
       "      <td>0</td>\n",
       "      <td>1</td>\n",
       "      <td>0</td>\n",
       "      <td>0</td>\n",
       "      <td>0</td>\n",
       "      <td>0</td>\n",
       "      <td>364.7</td>\n",
       "    </tr>\n",
       "    <tr>\n",
       "      <th>920</th>\n",
       "      <td>920</td>\n",
       "      <td>2019-12-22/2</td>\n",
       "      <td>2.0</td>\n",
       "      <td>285.180328</td>\n",
       "      <td>0</td>\n",
       "      <td>0</td>\n",
       "      <td>1</td>\n",
       "      <td>0</td>\n",
       "      <td>0</td>\n",
       "      <td>0</td>\n",
       "      <td>0</td>\n",
       "      <td>326.1</td>\n",
       "    </tr>\n",
       "    <tr>\n",
       "      <th>921</th>\n",
       "      <td>921</td>\n",
       "      <td>2019-12-22/3</td>\n",
       "      <td>3.0</td>\n",
       "      <td>81.440000</td>\n",
       "      <td>0</td>\n",
       "      <td>0</td>\n",
       "      <td>1</td>\n",
       "      <td>0</td>\n",
       "      <td>0</td>\n",
       "      <td>0</td>\n",
       "      <td>1</td>\n",
       "      <td>266.0</td>\n",
       "    </tr>\n",
       "    <tr>\n",
       "      <th>922</th>\n",
       "      <td>922</td>\n",
       "      <td>2019-12-22/4</td>\n",
       "      <td>4.0</td>\n",
       "      <td>317.206897</td>\n",
       "      <td>0</td>\n",
       "      <td>0</td>\n",
       "      <td>1</td>\n",
       "      <td>0</td>\n",
       "      <td>0</td>\n",
       "      <td>0</td>\n",
       "      <td>0</td>\n",
       "      <td>320.7</td>\n",
       "    </tr>\n",
       "    <tr>\n",
       "      <th>923</th>\n",
       "      <td>923</td>\n",
       "      <td>2019-12-22/5</td>\n",
       "      <td>5.0</td>\n",
       "      <td>254.538462</td>\n",
       "      <td>0</td>\n",
       "      <td>0</td>\n",
       "      <td>1</td>\n",
       "      <td>0</td>\n",
       "      <td>0</td>\n",
       "      <td>0</td>\n",
       "      <td>0</td>\n",
       "      <td>278.5</td>\n",
       "    </tr>\n",
       "  </tbody>\n",
       "</table>\n",
       "<p>924 rows × 12 columns</p>\n",
       "</div>"
      ],
      "text/plain": [
       "     hours_open_till_enddate Daily_transaction  hours_after_open  \\\n",
       "0                          0      2019-07-22/0               0.0   \n",
       "1                          1      2019-07-22/1               1.0   \n",
       "2                          2      2019-07-22/2               2.0   \n",
       "3                          3      2019-07-22/3               3.0   \n",
       "4                          4      2019-07-22/4               4.0   \n",
       "..                       ...               ...               ...   \n",
       "919                      919      2019-12-22/1               1.0   \n",
       "920                      920      2019-12-22/2               2.0   \n",
       "921                      921      2019-12-22/3               3.0   \n",
       "922                      922      2019-12-22/4               4.0   \n",
       "923                      923      2019-12-22/5               5.0   \n",
       "\n",
       "     dist_to_cafe  day_of_week_Mon  day_of_week_Sat  day_of_week_Sun  \\\n",
       "0      264.363636                1                0                0   \n",
       "1      246.769231                1                0                0   \n",
       "2       77.000000                1                0                0   \n",
       "3      471.000000                1                0                0   \n",
       "4      101.333333                1                0                0   \n",
       "..            ...              ...              ...              ...   \n",
       "919    274.741935                0                0                1   \n",
       "920    285.180328                0                0                1   \n",
       "921     81.440000                0                0                1   \n",
       "922    317.206897                0                0                1   \n",
       "923    254.538462                0                0                1   \n",
       "\n",
       "     day_of_week_Thu  day_of_week_Tue  day_of_week_Wed  raining_Yes  \\\n",
       "0                  0                0                0            0   \n",
       "1                  0                0                0            0   \n",
       "2                  0                0                0            1   \n",
       "3                  0                0                0            0   \n",
       "4                  0                0                0            1   \n",
       "..               ...              ...              ...          ...   \n",
       "919                0                0                0            0   \n",
       "920                0                0                0            0   \n",
       "921                0                0                0            1   \n",
       "922                0                0                0            0   \n",
       "923                0                0                0            0   \n",
       "\n",
       "     Sales (AUD)  \n",
       "0           49.0  \n",
       "1           83.6  \n",
       "2           37.3  \n",
       "3           50.6  \n",
       "4           16.1  \n",
       "..           ...  \n",
       "919        364.7  \n",
       "920        326.1  \n",
       "921        266.0  \n",
       "922        320.7  \n",
       "923        278.5  \n",
       "\n",
       "[924 rows x 12 columns]"
      ]
     },
     "execution_count": 130,
     "metadata": {},
     "output_type": "execute_result"
    }
   ],
   "source": [
    "cl_regression.rename(columns={\"index\": \"hours_open_till_enddate\"},inplace = True)\n",
    "cl_regression"
   ]
  },
  {
   "cell_type": "markdown",
   "metadata": {},
   "source": [
    "--------------------"
   ]
  },
  {
   "cell_type": "markdown",
   "metadata": {},
   "source": [
    "# -Part 2 Days since open"
   ]
  },
  {
   "cell_type": "code",
   "execution_count": 131,
   "metadata": {},
   "outputs": [],
   "source": [
    "#Select required data to make a completed form\n",
    "\n",
    "complete_query = '''Select c.days_after_open, c.hours_after_open, c.quantity, d.name, d.unit_price\n",
    "                    FROM ci_transaction c\n",
    "                    Left join drink d\n",
    "                    ON c.drink_id = d.id; '''\n",
    "\n",
    "complete_table = pd.read_sql(complete_query, conn)\n",
    "\n",
    "#Define a form: Hourly sales = quantity * Unit_Price, then create a new column named as 'Sales (AUD)'\n",
    "\n",
    "complete_table['Sales'] = complete_table['quantity'] * complete_table['unit_price']\n",
    "# complete_table"
   ]
  },
  {
   "cell_type": "markdown",
   "metadata": {},
   "source": [
    "### Further check "
   ]
  },
  {
   "cell_type": "code",
   "execution_count": 132,
   "metadata": {},
   "outputs": [
    {
     "data": {
      "text/plain": [
       "1    4985\n",
       "2    4804\n",
       "0    4750\n",
       "3    4480\n",
       "4    4217\n",
       "5    3935\n",
       "Name: hours_after_open, dtype: int64"
      ]
     },
     "execution_count": 132,
     "metadata": {},
     "output_type": "execute_result"
    }
   ],
   "source": [
    "combine['hours_after_open'].value_counts()"
   ]
  },
  {
   "cell_type": "code",
   "execution_count": 133,
   "metadata": {},
   "outputs": [
    {
     "data": {
      "text/plain": [
       "array([0, 0, 0, ..., 5, 5, 5])"
      ]
     },
     "execution_count": 133,
     "metadata": {},
     "output_type": "execute_result"
    }
   ],
   "source": [
    "combine['hours_after_open'].to_numpy()"
   ]
  },
  {
   "cell_type": "markdown",
   "metadata": {},
   "source": [
    "# Numerial and Graphic Analysis\n"
   ]
  },
  {
   "cell_type": "markdown",
   "metadata": {},
   "source": [
    "### 2.1 The relationship between average hourly sales and days after open"
   ]
  },
  {
   "cell_type": "code",
   "execution_count": 134,
   "metadata": {},
   "outputs": [
    {
     "name": "stdout",
     "output_type": "stream",
     "text": [
      "     days_after_open Daily_transaction  Sales (AUD)\n",
      "0                  0      2019-07-22/0         49.0\n",
      "1                  0      2019-07-22/1         83.6\n",
      "2                  0      2019-07-22/2         37.3\n",
      "3                  0      2019-07-22/3         50.6\n",
      "4                  0      2019-07-22/4         16.1\n",
      "..               ...               ...          ...\n",
      "919              153      2019-12-22/1        364.7\n",
      "920              153      2019-12-22/2        326.1\n",
      "921              153      2019-12-22/3        266.0\n",
      "922              153      2019-12-22/4        320.7\n",
      "923              153      2019-12-22/5        278.5\n",
      "\n",
      "[924 rows x 3 columns]\n",
      "(924, 3)\n"
     ]
    }
   ],
   "source": [
    "Average_hourly_sales_per_day = combine.groupby(['days_after_open','Daily_transaction'])['Sales (AUD)'].sum().reset_index()\n",
    "print(Average_hourly_sales_per_day)\n",
    "print(Average_hourly_sales_per_day.shape)"
   ]
  },
  {
   "cell_type": "code",
   "execution_count": 135,
   "metadata": {},
   "outputs": [
    {
     "data": {
      "text/html": [
       "<div>\n",
       "<style scoped>\n",
       "    .dataframe tbody tr th:only-of-type {\n",
       "        vertical-align: middle;\n",
       "    }\n",
       "\n",
       "    .dataframe tbody tr th {\n",
       "        vertical-align: top;\n",
       "    }\n",
       "\n",
       "    .dataframe thead th {\n",
       "        text-align: right;\n",
       "    }\n",
       "</style>\n",
       "<table border=\"1\" class=\"dataframe\">\n",
       "  <thead>\n",
       "    <tr style=\"text-align: right;\">\n",
       "      <th></th>\n",
       "      <th>days_after_open</th>\n",
       "      <th>Sales (AUD)</th>\n",
       "    </tr>\n",
       "  </thead>\n",
       "  <tbody>\n",
       "    <tr>\n",
       "      <th>count</th>\n",
       "      <td>924.000000</td>\n",
       "      <td>924.000000</td>\n",
       "    </tr>\n",
       "    <tr>\n",
       "      <th>mean</th>\n",
       "      <td>76.500000</td>\n",
       "      <td>156.645455</td>\n",
       "    </tr>\n",
       "    <tr>\n",
       "      <th>std</th>\n",
       "      <td>44.479109</td>\n",
       "      <td>120.083250</td>\n",
       "    </tr>\n",
       "    <tr>\n",
       "      <th>min</th>\n",
       "      <td>0.000000</td>\n",
       "      <td>4.000000</td>\n",
       "    </tr>\n",
       "    <tr>\n",
       "      <th>25%</th>\n",
       "      <td>38.000000</td>\n",
       "      <td>54.175000</td>\n",
       "    </tr>\n",
       "    <tr>\n",
       "      <th>50%</th>\n",
       "      <td>76.500000</td>\n",
       "      <td>104.100000</td>\n",
       "    </tr>\n",
       "    <tr>\n",
       "      <th>75%</th>\n",
       "      <td>115.000000</td>\n",
       "      <td>269.675000</td>\n",
       "    </tr>\n",
       "    <tr>\n",
       "      <th>max</th>\n",
       "      <td>153.000000</td>\n",
       "      <td>432.100000</td>\n",
       "    </tr>\n",
       "  </tbody>\n",
       "</table>\n",
       "</div>"
      ],
      "text/plain": [
       "       days_after_open  Sales (AUD)\n",
       "count       924.000000   924.000000\n",
       "mean         76.500000   156.645455\n",
       "std          44.479109   120.083250\n",
       "min           0.000000     4.000000\n",
       "25%          38.000000    54.175000\n",
       "50%          76.500000   104.100000\n",
       "75%         115.000000   269.675000\n",
       "max         153.000000   432.100000"
      ]
     },
     "execution_count": 135,
     "metadata": {},
     "output_type": "execute_result"
    }
   ],
   "source": [
    "Average_hourly_sales_per_day.describe()"
   ]
  },
  {
   "cell_type": "code",
   "execution_count": 136,
   "metadata": {},
   "outputs": [
    {
     "data": {
      "image/png": "[encoded data removed]",
      "text/plain": [
       "<Figure size 864x504 with 1 Axes>"
      ]
     },
     "metadata": {
      "needs_background": "light"
     },
     "output_type": "display_data"
    }
   ],
   "source": [
    "plt.figure(figsize=(12,7))\n",
    "plt.hist(Average_hourly_sales_per_day['Sales (AUD)'], bins = 100)\n",
    "\n",
    "plt.title(\"Hourly sales ditribution\")\n",
    "plt.xlabel(\"Hourly sales ($)\")\n",
    "plt.ylabel('Number of hourly sales')\n",
    "\n",
    "plt.show()"
   ]
  },
  {
   "cell_type": "code",
   "execution_count": 137,
   "metadata": {},
   "outputs": [
    {
     "name": "stdout",
     "output_type": "stream",
     "text": [
      "excess kurtosis of normal distribution (should be 0): -1.1005\n",
      "skewness of normal distribution (should be 0): 0.6168\n",
      "count    924.000000\n",
      "mean     156.645455\n",
      "std      120.083250\n",
      "min        4.000000\n",
      "25%       54.175000\n",
      "50%      104.100000\n",
      "75%      269.675000\n",
      "max      432.100000\n",
      "Name: Sales (AUD), dtype: float64\n"
     ]
    }
   ],
   "source": [
    "print( 'excess kurtosis of normal distribution (should be 0): {:.4f}'.format(kurtosis(Average_hourly_sales_per_day['Sales (AUD)'])))\n",
    "print( 'skewness of normal distribution (should be 0): {:.4f}'.format(skew(Average_hourly_sales_per_day['Sales (AUD)'])))\n",
    "print(Average_hourly_sales_per_day['Sales (AUD)'].describe())"
   ]
  },
  {
   "cell_type": "code",
   "execution_count": 138,
   "metadata": {},
   "outputs": [
    {
     "data": {
      "image/png": "[encoded data removed]",
      "text/plain": [
       "<Figure size 432x288 with 1 Axes>"
      ]
     },
     "metadata": {
      "needs_background": "light"
     },
     "output_type": "display_data"
    }
   ],
   "source": [
    "qq_plot = stats.probplot(Average_hourly_sales_per_day['Sales (AUD)'], plot=plt)"
   ]
  },
  {
   "cell_type": "markdown",
   "metadata": {},
   "source": [
    "### 2.1.2 Graphic  Analysis"
   ]
  },
  {
   "cell_type": "code",
   "execution_count": 139,
   "metadata": {},
   "outputs": [
    {
     "data": {
      "image/png": "[encoded data removed]",
      "text/plain": [
       "<Figure size 432x288 with 1 Axes>"
      ]
     },
     "metadata": {
      "needs_background": "light"
     },
     "output_type": "display_data"
    }
   ],
   "source": [
    "plt.plot(Average_hourly_sales_per_day['Sales (AUD)'], '.-', color = 'blue', alpha = 0.3, linewidth = 0.5)\n",
    "\n",
    "plt.xlabel('days after open')\n",
    "plt.ylabel('Average hourly Sales per day(AUD)')\n",
    "plt.title('The Trend of hourly sales and days of open')\n",
    "\n",
    "plt.show()"
   ]
  },
  {
   "cell_type": "markdown",
   "metadata": {},
   "source": [
    "## 2.2 The relationship of hourly sales and Cup Sizes"
   ]
  },
  {
   "cell_type": "code",
   "execution_count": 140,
   "metadata": {},
   "outputs": [],
   "source": [
    "#create a size function\n",
    "\n",
    "def size_function(d):\n",
    "    if '(L)'in d:\n",
    "       size = 'Large'\n",
    "    elif '(S)' in d:\n",
    "        size = 'Small'\n",
    "    else:\n",
    "        size = 'Standard'\n",
    "    return size "
   ]
  },
  {
   "cell_type": "code",
   "execution_count": 141,
   "metadata": {},
   "outputs": [],
   "source": [
    "complete_table['Size'] = complete_table['name'].apply(size_function)\n",
    "# complete_table"
   ]
  },
  {
   "cell_type": "markdown",
   "metadata": {},
   "source": [
    "### 2.2.1 Numerial Analysis"
   ]
  },
  {
   "cell_type": "code",
   "execution_count": 142,
   "metadata": {},
   "outputs": [
    {
     "data": {
      "text/plain": [
       "Size\n",
       "Large       14432\n",
       "Small       14603\n",
       "Standard     6076\n",
       "Name: quantity, dtype: int64"
      ]
     },
     "execution_count": 142,
     "metadata": {},
     "output_type": "execute_result"
    }
   ],
   "source": [
    "complete_table.groupby('Size')['quantity'].sum()"
   ]
  },
  {
   "cell_type": "markdown",
   "metadata": {},
   "source": [
    "### 2.2.2 Graphic Analysis"
   ]
  },
  {
   "cell_type": "code",
   "execution_count": 143,
   "metadata": {},
   "outputs": [],
   "source": [
    "Small_table = complete_table.query(\"Size == 'Small'\")\n",
    "# Small_table"
   ]
  },
  {
   "cell_type": "code",
   "execution_count": 144,
   "metadata": {},
   "outputs": [],
   "source": [
    "#Small cups Average_hourly_sales_per_day\n",
    "Small_cups = Small_table.groupby('days_after_open')['Sales'].sum()/6\n",
    "# Small_cups"
   ]
  },
  {
   "cell_type": "code",
   "execution_count": 145,
   "metadata": {},
   "outputs": [
    {
     "data": {
      "image/png": "[encoded data removed]",
      "text/plain": [
       "<Figure size 432x288 with 1 Axes>"
      ]
     },
     "metadata": {
      "needs_background": "light"
     },
     "output_type": "display_data"
    }
   ],
   "source": [
    "#The relationship between hourly sales for Small_cups and days_after_open\n",
    "\n",
    "plt.plot(Small_cups, '.-', color = 'blue', alpha = 0.3, linewidth = 0.5)\n",
    "\n",
    "plt.xlabel('days after open')\n",
    "plt.ylabel('Average hourly Sales per day(AUD)')\n",
    "plt.title('The relationship between hourly sales for Small cups and days of open')\n",
    "\n",
    "plt.show()\n"
   ]
  },
  {
   "cell_type": "markdown",
   "metadata": {},
   "source": [
    "### 2.2.3 Comparision"
   ]
  },
  {
   "cell_type": "code",
   "execution_count": 146,
   "metadata": {},
   "outputs": [],
   "source": [
    "Large_table = complete_table.query(\"Size == 'Large'\")\n",
    "# Large_table"
   ]
  },
  {
   "cell_type": "code",
   "execution_count": 147,
   "metadata": {},
   "outputs": [],
   "source": [
    "Large_cups = Large_table.groupby('days_after_open')['Sales'].sum()/6\n",
    "# Large_cups"
   ]
  },
  {
   "cell_type": "code",
   "execution_count": 148,
   "metadata": {},
   "outputs": [],
   "source": [
    "Standard_table = complete_table.query(\"Size == 'Standard'\")\n",
    "# Standard_table"
   ]
  },
  {
   "cell_type": "code",
   "execution_count": 149,
   "metadata": {},
   "outputs": [],
   "source": [
    "Standard_cups = Standard_table.groupby('days_after_open')['Sales'].sum()/6\n",
    "# Standard_cups"
   ]
  },
  {
   "cell_type": "code",
   "execution_count": 150,
   "metadata": {},
   "outputs": [
    {
     "data": {
      "image/png": "[encoded data removed]",
      "text/plain": [
       "<Figure size 432x288 with 1 Axes>"
      ]
     },
     "metadata": {
      "needs_background": "light"
     },
     "output_type": "display_data"
    }
   ],
   "source": [
    "#make plots\n",
    "plt.plot(Small_cups, '.-', color = 'blue', alpha = 0.4, linewidth = 0.5, label = 'Small_cups')\n",
    "plt.plot(Large_cups,  '.-', color = 'red', alpha = 0.4, linewidth = 0.5, label = 'Large_cups')\n",
    "plt.plot(Standard_cups,  '.-', color = 'black', alpha = 0.4, linewidth = 0.5, label = 'Standard_cups')\n",
    "\n",
    "#create lables\n",
    "plt.xlabel('days after open')\n",
    "plt.ylabel('Average hourly Sales per day for each classes cups (AUD)')\n",
    "\n",
    "plt.title('The Trend of hourly sales for each class cups and days of open')\n",
    "plt.legend()\n",
    "plt.show()"
   ]
  },
  {
   "cell_type": "markdown",
   "metadata": {},
   "source": [
    "--------------------"
   ]
  },
  {
   "cell_type": "markdown",
   "metadata": {},
   "source": [
    "# -Part 3 Seasonal factors"
   ]
  },
  {
   "cell_type": "markdown",
   "metadata": {},
   "source": [
    "### 3.1 **Day of the Week**"
   ]
  },
  {
   "cell_type": "code",
   "execution_count": 151,
   "metadata": {},
   "outputs": [],
   "source": [
    "combine_a = combine.groupby(['day_of_week', 'Daily_transaction'])['Sales (AUD)'].sum().reset_index()\n",
    "combine_a = combine_a.groupby(['day_of_week']).mean()\n",
    "combine_a = combine_a.reindex(['Mon', 'Tue', 'Wed', 'Thu', 'Fri', 'Sat', 'Sun'])\n",
    "# combine_a"
   ]
  },
  {
   "cell_type": "code",
   "execution_count": 152,
   "metadata": {},
   "outputs": [
    {
     "data": {
      "image/png": "[encoded data removed]",
      "text/plain": [
       "<Figure size 720x720 with 1 Axes>"
      ]
     },
     "metadata": {
      "needs_background": "light"
     },
     "output_type": "display_data"
    }
   ],
   "source": [
    "plt.figure(figsize=(10,10))\n",
    "plt.bar(combine_a.index, combine_a['Sales (AUD)'], color = 'lightblue')\n",
    "plt.plot(combine_a.index, combine_a, c = 'black', marker = '*')\n",
    "\n",
    "plt.xlabel('Day of Week')\n",
    "plt.ylabel('Daily Sales (AUD)')\n",
    "plt.title('How Much We Can Sale per Day')\n",
    "\n",
    "plt.show()"
   ]
  },
  {
   "cell_type": "code",
   "execution_count": 153,
   "metadata": {},
   "outputs": [],
   "source": [
    "def size (name):\n",
    "    if '(L)' in name:\n",
    "        return 'Large'\n",
    "    elif '(S)' in name:\n",
    "        return 'Small'\n",
    "    else:\n",
    "        return 'Other'"
   ]
  },
  {
   "cell_type": "code",
   "execution_count": 154,
   "metadata": {},
   "outputs": [],
   "source": [
    "combine['drink_size'] = combine['name'].apply(size)"
   ]
  },
  {
   "cell_type": "code",
   "execution_count": 155,
   "metadata": {},
   "outputs": [],
   "source": [
    "L = combine.loc[combine['drink_size'].str.contains('L')]\n",
    "S = combine.loc[combine['drink_size'].str.contains('S')]\n",
    "O = combine.loc[combine['drink_size'].str.contains('O')]"
   ]
  },
  {
   "cell_type": "code",
   "execution_count": 156,
   "metadata": {},
   "outputs": [],
   "source": [
    "dow_hour_L = L.groupby(['day_of_week','Daily_transaction'])['Sales (AUD)'].sum().reset_index()\n",
    "dow_hour_L_gb = dow_hour_L.groupby(['day_of_week']).mean().reindex(['Mon','Tue','Wed','Thu','Fri','Sat','Sun'])"
   ]
  },
  {
   "cell_type": "code",
   "execution_count": 157,
   "metadata": {},
   "outputs": [],
   "source": [
    "dow_hour_S = S.groupby(['day_of_week','Daily_transaction'])['Sales (AUD)'].sum().reset_index()\n",
    "dow_hour_S_gb = dow_hour_S.groupby(['day_of_week']).mean().reindex(['Mon','Tue','Wed','Thu','Fri','Sat','Sun'])"
   ]
  },
  {
   "cell_type": "code",
   "execution_count": 158,
   "metadata": {
    "scrolled": true
   },
   "outputs": [],
   "source": [
    "dow_hour_O = O.groupby(['day_of_week','Daily_transaction'])['Sales (AUD)'].sum().reset_index()\n",
    "dow_hour_O_gb = dow_hour_O.groupby(['day_of_week']).mean().reindex(['Mon','Tue','Wed','Thu','Fri','Sat','Sun'])"
   ]
  },
  {
   "cell_type": "code",
   "execution_count": 159,
   "metadata": {},
   "outputs": [
    {
     "data": {
      "image/png": "[encoded data removed]",
      "text/plain": [
       "<Figure size 432x288 with 1 Axes>"
      ]
     },
     "metadata": {
      "needs_background": "light"
     },
     "output_type": "display_data"
    }
   ],
   "source": [
    "ypos = [0, 1, 2, 3, 4, 5, 6]\n",
    "Large = np.array(dow_hour_L_gb['Sales (AUD)'])\n",
    "Small = np.array(dow_hour_S_gb['Sales (AUD)'])\n",
    "Other = np.array(dow_hour_O_gb['Sales (AUD)'])\n",
    "\n",
    "h = 0.3 # height\n",
    "adjusted_ypos = np.add(ypos, h)\n",
    "yticks = np.add(ypos,h/3)\n",
    "plt.barh(ypos, Large, height = h, color = 'lightblue', label = 'Large')\n",
    "plt.barh(adjusted_ypos, Small, height = h, color = 'orange', label = 'Small')\n",
    "plt.barh(adjusted_ypos+h, Other, height = h, color = 'pink', label = 'Other')\n",
    "\n",
    "item = ['Mon', 'Tue', 'Wed', 'Thu', 'Fri', 'Sat', 'Sun']\n",
    "plt.yticks(ypos, item)\n",
    "\n",
    "plt.xlabel('Amout of Sales')\n",
    "plt.yticks(yticks, item)\n",
    "plt.title('What Students Choose')\n",
    "plt.legend()\n",
    "\n",
    "plt.show()"
   ]
  },
  {
   "cell_type": "markdown",
   "metadata": {},
   "source": [
    "### 3.2 **Hour of the Day**"
   ]
  },
  {
   "cell_type": "code",
   "execution_count": 160,
   "metadata": {},
   "outputs": [],
   "source": [
    "hod_hour = combine.groupby(['hours_after_open', 'Daily_transaction'])['Sales (AUD)'].sum().reset_index()"
   ]
  },
  {
   "cell_type": "code",
   "execution_count": 161,
   "metadata": {},
   "outputs": [],
   "source": [
    "hod_hour_gb = hod_hour.groupby(['hours_after_open']).mean()"
   ]
  },
  {
   "cell_type": "code",
   "execution_count": 162,
   "metadata": {},
   "outputs": [
    {
     "data": {
      "image/png": "[encoded data removed]",
      "text/plain": [
       "<Figure size 432x288 with 1 Axes>"
      ]
     },
     "metadata": {
      "needs_background": "light"
     },
     "output_type": "display_data"
    }
   ],
   "source": [
    "plt.bar(hod_hour_gb.index, hod_hour_gb['Sales (AUD)'], color = 'lightgray')\n",
    "plt.plot(hod_hour_gb.index, hod_hour_gb, c = 'orange', marker = 'o')\n",
    "\n",
    "plt.xlabel('Hour of the Day')\n",
    "plt.ylabel('Daily Sales (AUD)')\n",
    "plt.title('How Much We Can Sale per Hour')\n",
    "\n",
    "plt.show()"
   ]
  },
  {
   "cell_type": "code",
   "execution_count": 163,
   "metadata": {},
   "outputs": [],
   "source": [
    "hod_hour_L = L.groupby(['hours_after_open','Daily_transaction'])['Sales (AUD)'].sum().reset_index()\n",
    "hod_hour_L_gb = hod_hour_L.groupby(['hours_after_open']).mean()\n"
   ]
  },
  {
   "cell_type": "code",
   "execution_count": 164,
   "metadata": {},
   "outputs": [],
   "source": [
    "hod_hour_S = S.groupby(['hours_after_open','Daily_transaction'])['Sales (AUD)'].sum().reset_index()\n",
    "hod_hour_S_gb = hod_hour_S.groupby(['hours_after_open']).mean()\n"
   ]
  },
  {
   "cell_type": "code",
   "execution_count": 165,
   "metadata": {},
   "outputs": [],
   "source": [
    "hod_hour_O = O.groupby(['hours_after_open','Daily_transaction'])['Sales (AUD)'].sum().reset_index()\n",
    "hod_hour_O_gb = hod_hour_O.groupby(['hours_after_open']).mean()\n"
   ]
  },
  {
   "cell_type": "code",
   "execution_count": 166,
   "metadata": {},
   "outputs": [
    {
     "data": {
      "image/png": "[encoded data removed]",
      "text/plain": [
       "<Figure size 432x288 with 1 Axes>"
      ]
     },
     "metadata": {
      "needs_background": "light"
     },
     "output_type": "display_data"
    }
   ],
   "source": [
    "xpos = [0, 1, 2, 3, 4, 5]\n",
    "Large = np.array(hod_hour_L_gb['Sales (AUD)'])\n",
    "Small = np.array(hod_hour_S_gb['Sales (AUD)'])\n",
    "Other = np.array(hod_hour_O_gb['Sales (AUD)'])\n",
    "\n",
    "w = 0.2 # width\n",
    "adjusted_xpos = np.add(xpos, w)\n",
    "xticks = np.add(xpos,w)\n",
    "plt.bar(xpos, Large, width = w, color = 'lightblue', label = 'Large')\n",
    "plt.plot(Large, c = 'blue', marker = \"*\")\n",
    "plt.bar(adjusted_xpos, Small, width = w, color = 'orange', label = 'Small')\n",
    "plt.plot(Small, c = 'orange', marker = \"*\")\n",
    "plt.bar(adjusted_xpos+w, Other, width = w, color = 'pink', label = 'Other')\n",
    "plt.plot(Other, c = 'red', marker = \"*\")\n",
    "\n",
    "plt.xlabel('Hours After Open')\n",
    "plt.ylabel('Amount of Sales')\n",
    "plt.title('What Students Choose')\n",
    "plt.legend()\n",
    "\n",
    "plt.show()"
   ]
  },
  {
   "cell_type": "markdown",
   "metadata": {},
   "source": [
    "--------------------"
   ]
  },
  {
   "cell_type": "markdown",
   "metadata": {},
   "source": [
    "# -Part 4 Raining & Study Area factors"
   ]
  },
  {
   "cell_type": "markdown",
   "metadata": {},
   "source": [
    "## 4.1 Bar chart of sales by raining variable:"
   ]
  },
  {
   "cell_type": "code",
   "execution_count": 167,
   "metadata": {},
   "outputs": [],
   "source": [
    "days = combine[['raining','hours_after_open','days_after_open','Sales (AUD)']]\n",
    "hourly_day = days.groupby([\"raining\",\"hours_after_open\"]).sum()"
   ]
  },
  {
   "cell_type": "code",
   "execution_count": 168,
   "metadata": {},
   "outputs": [
    {
     "name": "stdout",
     "output_type": "stream",
     "text": [
      "Value count on days of raining: \n",
      "No     19768\n",
      "Yes     7403\n",
      "Name: raining, dtype: int64\n"
     ]
    },
    {
     "data": {
      "image/png": "[encoded data removed]",
      "text/plain": [
       "<Figure size 432x288 with 1 Axes>"
      ]
     },
     "metadata": {
      "needs_background": "light"
     },
     "output_type": "display_data"
    },
    {
     "name": "stdout",
     "output_type": "stream",
     "text": [
      "<class 'list'>\n"
     ]
    }
   ],
   "source": [
    "raining_count = cl['raining'].value_counts()\n",
    "print('Value count on days of raining: ')\n",
    "print(raining_count)\n",
    "\n",
    "norain_hourly_day_mean = []\n",
    "\n",
    "for sale in hourly_day['Sales (AUD)'][:6]:\n",
    "    norain_hourly_day_mean.append(sale/153)\n",
    "# print(norain_hourly_day_mean)\n",
    "\n",
    "yesrain_hourly_day_mean = []\n",
    "\n",
    "for sale in hourly_day ['Sales (AUD)'][6:]:\n",
    "    yesrain_hourly_day_mean.append(sale/153)\n",
    "# print(yesrain_hourly_day_mean)\n",
    "\n",
    "plt.style.use('seaborn-deep')\n",
    "x = [0 ,1 ,2 ,3 ,4, 5]\n",
    "result = pd.DataFrame(np.c_[norain_hourly_day_mean,yesrain_hourly_day_mean], index = x)\n",
    "result.plot.bar()\n",
    "plt.xlabel('hours after open')\n",
    "plt.ylabel('Average sales hourly frequency')\n",
    "plt.legend(['Not raining','raining'], loc = 'upper right')\n",
    "\n",
    "plt.show()\n",
    "print(type(norain_hourly_day_mean))"
   ]
  },
  {
   "cell_type": "code",
   "execution_count": 169,
   "metadata": {},
   "outputs": [
    {
     "data": {
      "image/png": "[encoded data removed]",
      "text/plain": [
       "<Figure size 432x288 with 1 Axes>"
      ]
     },
     "metadata": {
      "needs_background": "light"
     },
     "output_type": "display_data"
    }
   ],
   "source": [
    "X = cl_regression['Sales (AUD)'].loc[cl_regression['raining_Yes'] == 0 ].to_numpy()\n",
    "y = cl_regression['Sales (AUD)'].loc[cl_regression['raining_Yes'] == 1 ].to_numpy()\n",
    "\n",
    "plt.boxplot((X,y),labels=[\"No rain\", \"Raining\"])\n",
    "plt.ylabel('Hourly sales (AUD)')\n",
    "plt.show()"
   ]
  },
  {
   "cell_type": "code",
   "execution_count": 170,
   "metadata": {},
   "outputs": [],
   "source": [
    "area_for_each_id_cl = cl[['cid','study_area_id', 'study_name']]"
   ]
  },
  {
   "cell_type": "code",
   "execution_count": 171,
   "metadata": {},
   "outputs": [],
   "source": [
    "count_for_each_study_area = area_for_each_id_cl.groupby(['study_name']).count()"
   ]
  },
  {
   "cell_type": "code",
   "execution_count": 172,
   "metadata": {},
   "outputs": [
    {
     "data": {
      "image/png": "[encoded data removed]",
      "text/plain": [
       "<Figure size 432x288 with 1 Axes>"
      ]
     },
     "metadata": {
      "needs_background": "light"
     },
     "output_type": "display_data"
    },
    {
     "name": "stdout",
     "output_type": "stream",
     "text": [
      "                            cid  study_area_id\n",
      "study_name                                    \n",
      "Abercrombie (H70)          2024           2024\n",
      "Brennan MacCallum (A18)    2003           2003\n",
      "Carslaw (F07)              4728           4728\n",
      "Fisher Library (F03)       7544           7544\n",
      "Law Library (F10)          6917           6917\n",
      "Peter Nicol Russell (PNR)  2009           2009\n",
      "The Quarter (A16)          1946           1946\n"
     ]
    }
   ],
   "source": [
    "objects = count_for_each_study_area.index.tolist()\n",
    "y_pos = np.arange(len(objects))\n",
    "performance = list(count_for_each_study_area['cid'])\n",
    "\n",
    "plt.bar(y_pos, performance, align = 'center', alpha = 0.5)\n",
    "plt.xticks(y_pos, objects,ha='right', rotation = 30)\n",
    "plt.ylabel('Number of total transactions')\n",
    "plt.title('Study area sales frequency')\n",
    "\n",
    "plt.show()\n",
    "print(count_for_each_study_area)"
   ]
  },
  {
   "cell_type": "code",
   "execution_count": 173,
   "metadata": {},
   "outputs": [
    {
     "data": {
      "text/html": [
       "<div>\n",
       "<style scoped>\n",
       "    .dataframe tbody tr th:only-of-type {\n",
       "        vertical-align: middle;\n",
       "    }\n",
       "\n",
       "    .dataframe tbody tr th {\n",
       "        vertical-align: top;\n",
       "    }\n",
       "\n",
       "    .dataframe thead th {\n",
       "        text-align: right;\n",
       "    }\n",
       "</style>\n",
       "<table border=\"1\" class=\"dataframe\">\n",
       "  <thead>\n",
       "    <tr style=\"text-align: right;\">\n",
       "      <th></th>\n",
       "      <th>study_name</th>\n",
       "      <th>Sales (AUD)</th>\n",
       "    </tr>\n",
       "  </thead>\n",
       "  <tbody>\n",
       "    <tr>\n",
       "      <th>0</th>\n",
       "      <td>Abercrombie (H70)</td>\n",
       "      <td>10975.9</td>\n",
       "    </tr>\n",
       "    <tr>\n",
       "      <th>1</th>\n",
       "      <td>Brennan MacCallum (A18)</td>\n",
       "      <td>10550.7</td>\n",
       "    </tr>\n",
       "    <tr>\n",
       "      <th>2</th>\n",
       "      <td>Carslaw (F07)</td>\n",
       "      <td>25192.0</td>\n",
       "    </tr>\n",
       "    <tr>\n",
       "      <th>3</th>\n",
       "      <td>Fisher Library (F03)</td>\n",
       "      <td>40300.4</td>\n",
       "    </tr>\n",
       "    <tr>\n",
       "      <th>4</th>\n",
       "      <td>Law Library (F10)</td>\n",
       "      <td>36527.9</td>\n",
       "    </tr>\n",
       "    <tr>\n",
       "      <th>5</th>\n",
       "      <td>Peter Nicol Russell (PNR)</td>\n",
       "      <td>10945.9</td>\n",
       "    </tr>\n",
       "    <tr>\n",
       "      <th>6</th>\n",
       "      <td>The Quarter (A16)</td>\n",
       "      <td>10247.6</td>\n",
       "    </tr>\n",
       "  </tbody>\n",
       "</table>\n",
       "</div>"
      ],
      "text/plain": [
       "                  study_name  Sales (AUD)\n",
       "0          Abercrombie (H70)      10975.9\n",
       "1    Brennan MacCallum (A18)      10550.7\n",
       "2              Carslaw (F07)      25192.0\n",
       "3       Fisher Library (F03)      40300.4\n",
       "4          Law Library (F10)      36527.9\n",
       "5  Peter Nicol Russell (PNR)      10945.9\n",
       "6          The Quarter (A16)      10247.6"
      ]
     },
     "execution_count": 173,
     "metadata": {},
     "output_type": "execute_result"
    }
   ],
   "source": [
    "total_sales_location = cl.groupby(['study_name'])['Sales (AUD)'].sum().reset_index()\n",
    "total_sales_location"
   ]
  },
  {
   "cell_type": "code",
   "execution_count": 174,
   "metadata": {},
   "outputs": [
    {
     "name": "stdout",
     "output_type": "stream",
     "text": [
      "<class 'pandas.core.frame.DataFrame'>\n"
     ]
    },
    {
     "data": {
      "text/html": [
       "<div>\n",
       "<style scoped>\n",
       "    .dataframe tbody tr th:only-of-type {\n",
       "        vertical-align: middle;\n",
       "    }\n",
       "\n",
       "    .dataframe tbody tr th {\n",
       "        vertical-align: top;\n",
       "    }\n",
       "\n",
       "    .dataframe thead th {\n",
       "        text-align: right;\n",
       "    }\n",
       "</style>\n",
       "<table border=\"1\" class=\"dataframe\">\n",
       "  <thead>\n",
       "    <tr style=\"text-align: right;\">\n",
       "      <th></th>\n",
       "      <th>Sales (AUD)</th>\n",
       "    </tr>\n",
       "    <tr>\n",
       "      <th>study_name</th>\n",
       "      <th></th>\n",
       "    </tr>\n",
       "  </thead>\n",
       "  <tbody>\n",
       "    <tr>\n",
       "      <th>Abercrombie (H70)</th>\n",
       "      <td>11.891549</td>\n",
       "    </tr>\n",
       "    <tr>\n",
       "      <th>Brennan MacCallum (A18)</th>\n",
       "      <td>11.430878</td>\n",
       "    </tr>\n",
       "    <tr>\n",
       "      <th>Carslaw (F07)</th>\n",
       "      <td>27.293608</td>\n",
       "    </tr>\n",
       "    <tr>\n",
       "      <th>Fisher Library (F03)</th>\n",
       "      <td>43.662405</td>\n",
       "    </tr>\n",
       "    <tr>\n",
       "      <th>Law Library (F10)</th>\n",
       "      <td>39.575190</td>\n",
       "    </tr>\n",
       "    <tr>\n",
       "      <th>Peter Nicol Russell (PNR)</th>\n",
       "      <td>11.859047</td>\n",
       "    </tr>\n",
       "    <tr>\n",
       "      <th>The Quarter (A16)</th>\n",
       "      <td>11.102492</td>\n",
       "    </tr>\n",
       "  </tbody>\n",
       "</table>\n",
       "</div>"
      ],
      "text/plain": [
       "                           Sales (AUD)\n",
       "study_name                            \n",
       "Abercrombie (H70)            11.891549\n",
       "Brennan MacCallum (A18)      11.430878\n",
       "Carslaw (F07)                27.293608\n",
       "Fisher Library (F03)         43.662405\n",
       "Law Library (F10)            39.575190\n",
       "Peter Nicol Russell (PNR)    11.859047\n",
       "The Quarter (A16)            11.102492"
      ]
     },
     "execution_count": 174,
     "metadata": {},
     "output_type": "execute_result"
    }
   ],
   "source": [
    "hourly_sales_location = cl.groupby(['study_name'])['Sales (AUD)'].sum()/923\n",
    "hourly_sales_location = pd.DataFrame(data=hourly_sales_location)\n",
    "print(type(hourly_sales_location))\n",
    "hourly_sales_location"
   ]
  },
  {
   "cell_type": "code",
   "execution_count": 175,
   "metadata": {},
   "outputs": [
    {
     "data": {
      "image/png": "[encoded data removed]",
      "text/plain": [
       "<Figure size 432x288 with 1 Axes>"
      ]
     },
     "metadata": {
      "needs_background": "light"
     },
     "output_type": "display_data"
    }
   ],
   "source": [
    "objects = hourly_sales_location.index.tolist()\n",
    "y_pos = np.arange(len(objects))\n",
    "performance = list(hourly_sales_location['Sales (AUD)'])\n",
    "\n",
    "plt.bar(y_pos, performance, align = 'center', alpha = 0.5)\n",
    "plt.xticks(y_pos, objects,ha='right', rotation = 30)\n",
    "plt.ylabel('hourly sales (AUD)')\n",
    "plt.title('Averaged total hourly sales by study area location')\n",
    "\n",
    "plt.show()"
   ]
  },
  {
   "cell_type": "markdown",
   "metadata": {},
   "source": [
    "## 4.2 Location Correlation"
   ]
  },
  {
   "cell_type": "code",
   "execution_count": 176,
   "metadata": {},
   "outputs": [],
   "source": [
    "area_for_each_id_cll = cl[['cid', 'study_area_id']]\n",
    "# area_for_each_id_cll"
   ]
  },
  {
   "cell_type": "code",
   "execution_count": 177,
   "metadata": {},
   "outputs": [],
   "source": [
    "count_for_each_study_areaa = area_for_each_id_cll.groupby(['study_area_id']).count()\n",
    "# print(count_for_each_study_areaa)"
   ]
  },
  {
   "cell_type": "code",
   "execution_count": 178,
   "metadata": {
    "scrolled": true
   },
   "outputs": [
    {
     "data": {
      "image/png": "[encoded data removed]",
      "text/plain": [
       "<Figure size 432x288 with 1 Axes>"
      ]
     },
     "metadata": {
      "needs_background": "light"
     },
     "output_type": "display_data"
    },
    {
     "name": "stdout",
     "output_type": "stream",
     "text": [
      "slope of the graph: \n",
      "LinregressResult(slope=-5.824081076342936, intercept=6131.330747204471, rvalue=-0.7747506449080112, pvalue=0.04079330459040322, stderr=2.12559692419596)\n",
      "Correlation: -0.7748\n"
     ]
    }
   ],
   "source": [
    "count_for_each_study_area\n",
    "study_area = pd.read_sql('''SELECT s.id, s.dist_to_cafe FROM study_area s ORDER BY s.id ASC;''', conn)\n",
    "\n",
    "x = list(study_area['dist_to_cafe'])\n",
    "y = list(count_for_each_study_areaa['cid'])\n",
    "\n",
    "plt.scatter(x, y, marker = 'o', color = 'black')\n",
    "plt.plot(np.unique(x), np.poly1d(np.polyfit(x, y, 1))(np.unique(x)))\n",
    "# reference from：https://stackoverflow.com/questions/22239691/code-for-best-fit-straight-line-of-a-scatter-plot-in-python\n",
    "\n",
    "plt.show()\n",
    "print('slope of the graph: ')\n",
    "print(linregress(x, y))\n",
    "\n",
    "print('Correlation: {:.4f}'.format(study_area['dist_to_cafe'].corr(count_for_each_study_areaa['cid'])))"
   ]
  },
  {
   "cell_type": "markdown",
   "metadata": {},
   "source": [
    "## 4.3 Extention on Location Correlation -  Linear Regression"
   ]
  },
  {
   "cell_type": "code",
   "execution_count": 179,
   "metadata": {},
   "outputs": [
    {
     "name": "stdout",
     "output_type": "stream",
     "text": [
      "beta 0: 6131.33\n",
      "beta 1: -5.82\n"
     ]
    }
   ],
   "source": [
    "X = study_area[\"dist_to_cafe\"].to_numpy()\n",
    "y = count_for_each_study_areaa['cid']\n",
    "\n",
    "linear_reg = LinearRegression()\n",
    "linear_reg.fit(X.reshape(-1,1), y)\n",
    "\n",
    "print('beta 0: {:.2f}'.format(linear_reg.intercept_))\n",
    "print('beta 1: {:.2f}'.format(linear_reg.coef_[0]))"
   ]
  },
  {
   "cell_type": "code",
   "execution_count": 180,
   "metadata": {},
   "outputs": [
    {
     "name": "stdout",
     "output_type": "stream",
     "text": [
      "beta 0: 123.10\n",
      "beta 1: 0.13\n",
      "                            OLS Regression Results                            \n",
      "==============================================================================\n",
      "Dep. Variable:                      y   R-squared:                       0.015\n",
      "Model:                            OLS   Adj. R-squared:                  0.014\n",
      "Method:                 Least Squares   F-statistic:                     13.92\n",
      "Date:                Sun, 06 Jun 2021   Prob (F-statistic):           0.000202\n",
      "Time:                        17:31:00   Log-Likelihood:                -5728.0\n",
      "No. Observations:                 924   AIC:                         1.146e+04\n",
      "Df Residuals:                     922   BIC:                         1.147e+04\n",
      "Df Model:                           1                                         \n",
      "Covariance Type:            nonrobust                                         \n",
      "==============================================================================\n",
      "                 coef    std err          t      P>|t|      [0.025      0.975]\n",
      "------------------------------------------------------------------------------\n",
      "const        128.0770      8.603     14.888      0.000     111.194     144.960\n",
      "x1             0.1227      0.033      3.731      0.000       0.058       0.187\n",
      "==============================================================================\n",
      "Omnibus:                      534.820   Durbin-Watson:                   0.074\n",
      "Prob(Omnibus):                  0.000   Jarque-Bera (JB):              106.063\n",
      "Skew:                           0.595   Prob(JB):                     9.30e-24\n",
      "Kurtosis:                       1.844   Cond. No.                         574.\n",
      "==============================================================================\n",
      "\n",
      "Notes:\n",
      "[1] Standard Errors assume that the covariance matrix of the errors is correctly specified.\n",
      "15194.620076822077\n",
      "0.006662795092364893\n",
      "RMSE: 123.2665\n"
     ]
    }
   ],
   "source": [
    "X = cl_regression[\"dist_to_cafe\"].to_numpy()\n",
    "y = cl_regression['Sales (AUD)'].to_numpy()\n",
    "\n",
    "X_train, X_test, y_train, y_test = train_test_split(X, y, shuffle = True, test_size = 0.4, random_state = 1)\n",
    "\n",
    "linear_reg = LinearRegression()\n",
    "linear_reg.fit(X_train.reshape(-1,1), y_train)\n",
    "pred_y = linear_reg.predict(X_test.reshape(-1,1))\n",
    "\n",
    "\n",
    "print('beta 0: {:.2f}'.format(linear_reg.intercept_))\n",
    "print('beta 1: {:.2f}'.format(linear_reg.coef_[0]))\n",
    "X_1 = sm.add_constant(X)\n",
    "model = sm.OLS(y, X_1).fit()\n",
    "predictions = model.predict(X_1) \n",
    "# https://datatofish.com/multiple-linear-regression-python/\n",
    "print_model = model.summary()\n",
    "print(print_model)\n",
    "print(mse(pred_y,y_test))\n",
    "print(r2_score(y_test,pred_y))\n",
    "print('RMSE: {:.4f}'.format(np.sqrt(mse(pred_y,y_test))))\n"
   ]
  },
  {
   "cell_type": "code",
   "execution_count": 181,
   "metadata": {},
   "outputs": [
    {
     "data": {
      "image/png": "[encoded data removed]",
      "text/plain": [
       "<Figure size 720x720 with 1 Axes>"
      ]
     },
     "metadata": {
      "needs_background": "light"
     },
     "output_type": "display_data"
    }
   ],
   "source": [
    "opd = cl_regression[['dist_to_cafe','Sales (AUD)']].reset_index(drop=True).to_numpy()\n",
    "plt.figure(figsize=(10,10))\n",
    "\n",
    "plt.plot(opd[:,0], opd[:,1], '.-', color = 'blue', alpha = 1, linewidth = 0.0005)\n",
    "plt.ylabel('Hourly sales (AUD)')\n",
    "plt.xlabel('Distance to cafe (m)')\n",
    "plt.title('Distance to cafe vs Hourly sales')\n",
    "\n",
    "\n",
    "plt.show()"
   ]
  },
  {
   "cell_type": "code",
   "execution_count": 182,
   "metadata": {},
   "outputs": [
    {
     "data": {
      "image/png": "[encoded data removed]",
      "text/plain": [
       "<Figure size 720x720 with 1 Axes>"
      ]
     },
     "metadata": {
      "needs_background": "light"
     },
     "output_type": "display_data"
    }
   ],
   "source": [
    "plt.figure(figsize=(10,10))\n",
    "\n",
    "X = opd[:,0]\n",
    "y = opd[:,1]\n",
    "plt.bar(y, X, width = 1)\n",
    "\n",
    "plt.xlabel('Disntance to cafe (m)')\n",
    "plt.ylabel('Number of hourly sales')\n",
    "plt.title('Distance to cafe vs Number of hourly sales')\n",
    "\n",
    "plt.show()"
   ]
  },
  {
   "cell_type": "code",
   "execution_count": 183,
   "metadata": {},
   "outputs": [
    {
     "data": {
      "text/html": [
       "<div>\n",
       "<style scoped>\n",
       "    .dataframe tbody tr th:only-of-type {\n",
       "        vertical-align: middle;\n",
       "    }\n",
       "\n",
       "    .dataframe tbody tr th {\n",
       "        vertical-align: top;\n",
       "    }\n",
       "\n",
       "    .dataframe thead th {\n",
       "        text-align: right;\n",
       "    }\n",
       "</style>\n",
       "<table border=\"1\" class=\"dataframe\">\n",
       "  <thead>\n",
       "    <tr style=\"text-align: right;\">\n",
       "      <th>study_name</th>\n",
       "      <th>Abercrombie (H70)</th>\n",
       "      <th>Brennan MacCallum (A18)</th>\n",
       "      <th>Carslaw (F07)</th>\n",
       "      <th>Fisher Library (F03)</th>\n",
       "      <th>Law Library (F10)</th>\n",
       "      <th>Peter Nicol Russell (PNR)</th>\n",
       "      <th>The Quarter (A16)</th>\n",
       "    </tr>\n",
       "    <tr>\n",
       "      <th>hours_after_open</th>\n",
       "      <th></th>\n",
       "      <th></th>\n",
       "      <th></th>\n",
       "      <th></th>\n",
       "      <th></th>\n",
       "      <th></th>\n",
       "      <th></th>\n",
       "    </tr>\n",
       "  </thead>\n",
       "  <tbody>\n",
       "    <tr>\n",
       "      <th>0</th>\n",
       "      <td>320</td>\n",
       "      <td>344</td>\n",
       "      <td>844</td>\n",
       "      <td>1340</td>\n",
       "      <td>1217</td>\n",
       "      <td>339</td>\n",
       "      <td>346</td>\n",
       "    </tr>\n",
       "    <tr>\n",
       "      <th>1</th>\n",
       "      <td>399</td>\n",
       "      <td>394</td>\n",
       "      <td>913</td>\n",
       "      <td>1348</td>\n",
       "      <td>1198</td>\n",
       "      <td>374</td>\n",
       "      <td>359</td>\n",
       "    </tr>\n",
       "    <tr>\n",
       "      <th>2</th>\n",
       "      <td>365</td>\n",
       "      <td>326</td>\n",
       "      <td>753</td>\n",
       "      <td>1395</td>\n",
       "      <td>1302</td>\n",
       "      <td>334</td>\n",
       "      <td>329</td>\n",
       "    </tr>\n",
       "    <tr>\n",
       "      <th>3</th>\n",
       "      <td>368</td>\n",
       "      <td>366</td>\n",
       "      <td>853</td>\n",
       "      <td>1117</td>\n",
       "      <td>1091</td>\n",
       "      <td>370</td>\n",
       "      <td>315</td>\n",
       "    </tr>\n",
       "    <tr>\n",
       "      <th>4</th>\n",
       "      <td>314</td>\n",
       "      <td>314</td>\n",
       "      <td>745</td>\n",
       "      <td>1149</td>\n",
       "      <td>1062</td>\n",
       "      <td>312</td>\n",
       "      <td>321</td>\n",
       "    </tr>\n",
       "    <tr>\n",
       "      <th>5</th>\n",
       "      <td>258</td>\n",
       "      <td>259</td>\n",
       "      <td>620</td>\n",
       "      <td>1195</td>\n",
       "      <td>1047</td>\n",
       "      <td>280</td>\n",
       "      <td>276</td>\n",
       "    </tr>\n",
       "  </tbody>\n",
       "</table>\n",
       "</div>"
      ],
      "text/plain": [
       "study_name        Abercrombie (H70)  Brennan MacCallum (A18)  Carslaw (F07)  \\\n",
       "hours_after_open                                                              \n",
       "0                               320                      344            844   \n",
       "1                               399                      394            913   \n",
       "2                               365                      326            753   \n",
       "3                               368                      366            853   \n",
       "4                               314                      314            745   \n",
       "5                               258                      259            620   \n",
       "\n",
       "study_name        Fisher Library (F03)  Law Library (F10)  \\\n",
       "hours_after_open                                            \n",
       "0                                 1340               1217   \n",
       "1                                 1348               1198   \n",
       "2                                 1395               1302   \n",
       "3                                 1117               1091   \n",
       "4                                 1149               1062   \n",
       "5                                 1195               1047   \n",
       "\n",
       "study_name        Peter Nicol Russell (PNR)  The Quarter (A16)  \n",
       "hours_after_open                                                \n",
       "0                                       339                346  \n",
       "1                                       374                359  \n",
       "2                                       334                329  \n",
       "3                                       370                315  \n",
       "4                                       312                321  \n",
       "5                                       280                276  "
      ]
     },
     "execution_count": 183,
     "metadata": {},
     "output_type": "execute_result"
    }
   ],
   "source": [
    "study_area_hours_after_open = pd.crosstab(cl['hours_after_open'], cl['study_name'])\n",
    "study_area_hours_after_open"
   ]
  },
  {
   "cell_type": "code",
   "execution_count": 184,
   "metadata": {},
   "outputs": [
    {
     "data": {
      "text/html": [
       "<div>\n",
       "<style scoped>\n",
       "    .dataframe tbody tr th:only-of-type {\n",
       "        vertical-align: middle;\n",
       "    }\n",
       "\n",
       "    .dataframe tbody tr th {\n",
       "        vertical-align: top;\n",
       "    }\n",
       "\n",
       "    .dataframe thead th {\n",
       "        text-align: right;\n",
       "    }\n",
       "</style>\n",
       "<table border=\"1\" class=\"dataframe\">\n",
       "  <thead>\n",
       "    <tr style=\"text-align: right;\">\n",
       "      <th>study_name</th>\n",
       "      <th>Abercrombie (H70)</th>\n",
       "      <th>Brennan MacCallum (A18)</th>\n",
       "      <th>Carslaw (F07)</th>\n",
       "      <th>Fisher Library (F03)</th>\n",
       "      <th>Law Library (F10)</th>\n",
       "      <th>Peter Nicol Russell (PNR)</th>\n",
       "      <th>The Quarter (A16)</th>\n",
       "    </tr>\n",
       "    <tr>\n",
       "      <th>hours_after_open</th>\n",
       "      <th></th>\n",
       "      <th></th>\n",
       "      <th></th>\n",
       "      <th></th>\n",
       "      <th></th>\n",
       "      <th></th>\n",
       "      <th></th>\n",
       "    </tr>\n",
       "  </thead>\n",
       "  <tbody>\n",
       "    <tr>\n",
       "      <th>0</th>\n",
       "      <td>0.067368</td>\n",
       "      <td>0.072421</td>\n",
       "      <td>0.177684</td>\n",
       "      <td>0.282105</td>\n",
       "      <td>0.256211</td>\n",
       "      <td>0.071368</td>\n",
       "      <td>0.072842</td>\n",
       "    </tr>\n",
       "    <tr>\n",
       "      <th>1</th>\n",
       "      <td>0.080040</td>\n",
       "      <td>0.079037</td>\n",
       "      <td>0.183149</td>\n",
       "      <td>0.270411</td>\n",
       "      <td>0.240321</td>\n",
       "      <td>0.075025</td>\n",
       "      <td>0.072016</td>\n",
       "    </tr>\n",
       "    <tr>\n",
       "      <th>2</th>\n",
       "      <td>0.075978</td>\n",
       "      <td>0.067860</td>\n",
       "      <td>0.156744</td>\n",
       "      <td>0.290383</td>\n",
       "      <td>0.271024</td>\n",
       "      <td>0.069525</td>\n",
       "      <td>0.068485</td>\n",
       "    </tr>\n",
       "    <tr>\n",
       "      <th>3</th>\n",
       "      <td>0.082143</td>\n",
       "      <td>0.081696</td>\n",
       "      <td>0.190402</td>\n",
       "      <td>0.249330</td>\n",
       "      <td>0.243527</td>\n",
       "      <td>0.082589</td>\n",
       "      <td>0.070312</td>\n",
       "    </tr>\n",
       "    <tr>\n",
       "      <th>4</th>\n",
       "      <td>0.074461</td>\n",
       "      <td>0.074461</td>\n",
       "      <td>0.176666</td>\n",
       "      <td>0.272469</td>\n",
       "      <td>0.251838</td>\n",
       "      <td>0.073986</td>\n",
       "      <td>0.076120</td>\n",
       "    </tr>\n",
       "    <tr>\n",
       "      <th>5</th>\n",
       "      <td>0.065565</td>\n",
       "      <td>0.065820</td>\n",
       "      <td>0.157560</td>\n",
       "      <td>0.303685</td>\n",
       "      <td>0.266074</td>\n",
       "      <td>0.071156</td>\n",
       "      <td>0.070140</td>\n",
       "    </tr>\n",
       "  </tbody>\n",
       "</table>\n",
       "</div>"
      ],
      "text/plain": [
       "study_name        Abercrombie (H70)  Brennan MacCallum (A18)  Carslaw (F07)  \\\n",
       "hours_after_open                                                              \n",
       "0                          0.067368                 0.072421       0.177684   \n",
       "1                          0.080040                 0.079037       0.183149   \n",
       "2                          0.075978                 0.067860       0.156744   \n",
       "3                          0.082143                 0.081696       0.190402   \n",
       "4                          0.074461                 0.074461       0.176666   \n",
       "5                          0.065565                 0.065820       0.157560   \n",
       "\n",
       "study_name        Fisher Library (F03)  Law Library (F10)  \\\n",
       "hours_after_open                                            \n",
       "0                             0.282105           0.256211   \n",
       "1                             0.270411           0.240321   \n",
       "2                             0.290383           0.271024   \n",
       "3                             0.249330           0.243527   \n",
       "4                             0.272469           0.251838   \n",
       "5                             0.303685           0.266074   \n",
       "\n",
       "study_name        Peter Nicol Russell (PNR)  The Quarter (A16)  \n",
       "hours_after_open                                                \n",
       "0                                  0.071368           0.072842  \n",
       "1                                  0.075025           0.072016  \n",
       "2                                  0.069525           0.068485  \n",
       "3                                  0.082589           0.070312  \n",
       "4                                  0.073986           0.076120  \n",
       "5                                  0.071156           0.070140  "
      ]
     },
     "execution_count": 184,
     "metadata": {},
     "output_type": "execute_result"
    }
   ],
   "source": [
    "study_area_hours_after_open_proportion = study_area_hours_after_open.div(study_area_hours_after_open.sum(axis=1), axis= 0)\n",
    "# https://stackoverflow.com/questions/50820659/compute-row-percentages-in-pandas-dataframe\n",
    "study_area_hours_after_open_proportion"
   ]
  },
  {
   "cell_type": "markdown",
   "metadata": {},
   "source": [
    "## CLUSTER"
   ]
  },
  {
   "cell_type": "code",
   "execution_count": 185,
   "metadata": {},
   "outputs": [
    {
     "data": {
      "text/html": [
       "<div>\n",
       "<style scoped>\n",
       "    .dataframe tbody tr th:only-of-type {\n",
       "        vertical-align: middle;\n",
       "    }\n",
       "\n",
       "    .dataframe tbody tr th {\n",
       "        vertical-align: top;\n",
       "    }\n",
       "\n",
       "    .dataframe thead th {\n",
       "        text-align: right;\n",
       "    }\n",
       "</style>\n",
       "<table border=\"1\" class=\"dataframe\">\n",
       "  <thead>\n",
       "    <tr style=\"text-align: right;\">\n",
       "      <th></th>\n",
       "      <th>hours_open_till_enddate</th>\n",
       "      <th>Daily_transaction</th>\n",
       "      <th>hours_after_open</th>\n",
       "      <th>dist_to_cafe</th>\n",
       "      <th>day_of_week_Mon</th>\n",
       "      <th>day_of_week_Sat</th>\n",
       "      <th>day_of_week_Sun</th>\n",
       "      <th>day_of_week_Thu</th>\n",
       "      <th>day_of_week_Tue</th>\n",
       "      <th>day_of_week_Wed</th>\n",
       "      <th>raining_Yes</th>\n",
       "      <th>Sales (AUD)</th>\n",
       "    </tr>\n",
       "  </thead>\n",
       "  <tbody>\n",
       "    <tr>\n",
       "      <th>0</th>\n",
       "      <td>0</td>\n",
       "      <td>2019-07-22/0</td>\n",
       "      <td>0.0</td>\n",
       "      <td>264.363636</td>\n",
       "      <td>1</td>\n",
       "      <td>0</td>\n",
       "      <td>0</td>\n",
       "      <td>0</td>\n",
       "      <td>0</td>\n",
       "      <td>0</td>\n",
       "      <td>0</td>\n",
       "      <td>49.0</td>\n",
       "    </tr>\n",
       "    <tr>\n",
       "      <th>1</th>\n",
       "      <td>1</td>\n",
       "      <td>2019-07-22/1</td>\n",
       "      <td>1.0</td>\n",
       "      <td>246.769231</td>\n",
       "      <td>1</td>\n",
       "      <td>0</td>\n",
       "      <td>0</td>\n",
       "      <td>0</td>\n",
       "      <td>0</td>\n",
       "      <td>0</td>\n",
       "      <td>0</td>\n",
       "      <td>83.6</td>\n",
       "    </tr>\n",
       "    <tr>\n",
       "      <th>2</th>\n",
       "      <td>2</td>\n",
       "      <td>2019-07-22/2</td>\n",
       "      <td>2.0</td>\n",
       "      <td>77.000000</td>\n",
       "      <td>1</td>\n",
       "      <td>0</td>\n",
       "      <td>0</td>\n",
       "      <td>0</td>\n",
       "      <td>0</td>\n",
       "      <td>0</td>\n",
       "      <td>1</td>\n",
       "      <td>37.3</td>\n",
       "    </tr>\n",
       "    <tr>\n",
       "      <th>3</th>\n",
       "      <td>3</td>\n",
       "      <td>2019-07-22/3</td>\n",
       "      <td>3.0</td>\n",
       "      <td>471.000000</td>\n",
       "      <td>1</td>\n",
       "      <td>0</td>\n",
       "      <td>0</td>\n",
       "      <td>0</td>\n",
       "      <td>0</td>\n",
       "      <td>0</td>\n",
       "      <td>0</td>\n",
       "      <td>50.6</td>\n",
       "    </tr>\n",
       "    <tr>\n",
       "      <th>4</th>\n",
       "      <td>4</td>\n",
       "      <td>2019-07-22/4</td>\n",
       "      <td>4.0</td>\n",
       "      <td>101.333333</td>\n",
       "      <td>1</td>\n",
       "      <td>0</td>\n",
       "      <td>0</td>\n",
       "      <td>0</td>\n",
       "      <td>0</td>\n",
       "      <td>0</td>\n",
       "      <td>1</td>\n",
       "      <td>16.1</td>\n",
       "    </tr>\n",
       "    <tr>\n",
       "      <th>...</th>\n",
       "      <td>...</td>\n",
       "      <td>...</td>\n",
       "      <td>...</td>\n",
       "      <td>...</td>\n",
       "      <td>...</td>\n",
       "      <td>...</td>\n",
       "      <td>...</td>\n",
       "      <td>...</td>\n",
       "      <td>...</td>\n",
       "      <td>...</td>\n",
       "      <td>...</td>\n",
       "      <td>...</td>\n",
       "    </tr>\n",
       "    <tr>\n",
       "      <th>919</th>\n",
       "      <td>919</td>\n",
       "      <td>2019-12-22/1</td>\n",
       "      <td>1.0</td>\n",
       "      <td>274.741935</td>\n",
       "      <td>0</td>\n",
       "      <td>0</td>\n",
       "      <td>1</td>\n",
       "      <td>0</td>\n",
       "      <td>0</td>\n",
       "      <td>0</td>\n",
       "      <td>0</td>\n",
       "      <td>364.7</td>\n",
       "    </tr>\n",
       "    <tr>\n",
       "      <th>920</th>\n",
       "      <td>920</td>\n",
       "      <td>2019-12-22/2</td>\n",
       "      <td>2.0</td>\n",
       "      <td>285.180328</td>\n",
       "      <td>0</td>\n",
       "      <td>0</td>\n",
       "      <td>1</td>\n",
       "      <td>0</td>\n",
       "      <td>0</td>\n",
       "      <td>0</td>\n",
       "      <td>0</td>\n",
       "      <td>326.1</td>\n",
       "    </tr>\n",
       "    <tr>\n",
       "      <th>921</th>\n",
       "      <td>921</td>\n",
       "      <td>2019-12-22/3</td>\n",
       "      <td>3.0</td>\n",
       "      <td>81.440000</td>\n",
       "      <td>0</td>\n",
       "      <td>0</td>\n",
       "      <td>1</td>\n",
       "      <td>0</td>\n",
       "      <td>0</td>\n",
       "      <td>0</td>\n",
       "      <td>1</td>\n",
       "      <td>266.0</td>\n",
       "    </tr>\n",
       "    <tr>\n",
       "      <th>922</th>\n",
       "      <td>922</td>\n",
       "      <td>2019-12-22/4</td>\n",
       "      <td>4.0</td>\n",
       "      <td>317.206897</td>\n",
       "      <td>0</td>\n",
       "      <td>0</td>\n",
       "      <td>1</td>\n",
       "      <td>0</td>\n",
       "      <td>0</td>\n",
       "      <td>0</td>\n",
       "      <td>0</td>\n",
       "      <td>320.7</td>\n",
       "    </tr>\n",
       "    <tr>\n",
       "      <th>923</th>\n",
       "      <td>923</td>\n",
       "      <td>2019-12-22/5</td>\n",
       "      <td>5.0</td>\n",
       "      <td>254.538462</td>\n",
       "      <td>0</td>\n",
       "      <td>0</td>\n",
       "      <td>1</td>\n",
       "      <td>0</td>\n",
       "      <td>0</td>\n",
       "      <td>0</td>\n",
       "      <td>0</td>\n",
       "      <td>278.5</td>\n",
       "    </tr>\n",
       "  </tbody>\n",
       "</table>\n",
       "<p>924 rows × 12 columns</p>\n",
       "</div>"
      ],
      "text/plain": [
       "     hours_open_till_enddate Daily_transaction  hours_after_open  \\\n",
       "0                          0      2019-07-22/0               0.0   \n",
       "1                          1      2019-07-22/1               1.0   \n",
       "2                          2      2019-07-22/2               2.0   \n",
       "3                          3      2019-07-22/3               3.0   \n",
       "4                          4      2019-07-22/4               4.0   \n",
       "..                       ...               ...               ...   \n",
       "919                      919      2019-12-22/1               1.0   \n",
       "920                      920      2019-12-22/2               2.0   \n",
       "921                      921      2019-12-22/3               3.0   \n",
       "922                      922      2019-12-22/4               4.0   \n",
       "923                      923      2019-12-22/5               5.0   \n",
       "\n",
       "     dist_to_cafe  day_of_week_Mon  day_of_week_Sat  day_of_week_Sun  \\\n",
       "0      264.363636                1                0                0   \n",
       "1      246.769231                1                0                0   \n",
       "2       77.000000                1                0                0   \n",
       "3      471.000000                1                0                0   \n",
       "4      101.333333                1                0                0   \n",
       "..            ...              ...              ...              ...   \n",
       "919    274.741935                0                0                1   \n",
       "920    285.180328                0                0                1   \n",
       "921     81.440000                0                0                1   \n",
       "922    317.206897                0                0                1   \n",
       "923    254.538462                0                0                1   \n",
       "\n",
       "     day_of_week_Thu  day_of_week_Tue  day_of_week_Wed  raining_Yes  \\\n",
       "0                  0                0                0            0   \n",
       "1                  0                0                0            0   \n",
       "2                  0                0                0            1   \n",
       "3                  0                0                0            0   \n",
       "4                  0                0                0            1   \n",
       "..               ...              ...              ...          ...   \n",
       "919                0                0                0            0   \n",
       "920                0                0                0            0   \n",
       "921                0                0                0            1   \n",
       "922                0                0                0            0   \n",
       "923                0                0                0            0   \n",
       "\n",
       "     Sales (AUD)  \n",
       "0           49.0  \n",
       "1           83.6  \n",
       "2           37.3  \n",
       "3           50.6  \n",
       "4           16.1  \n",
       "..           ...  \n",
       "919        364.7  \n",
       "920        326.1  \n",
       "921        266.0  \n",
       "922        320.7  \n",
       "923        278.5  \n",
       "\n",
       "[924 rows x 12 columns]"
      ]
     },
     "metadata": {},
     "output_type": "display_data"
    },
    {
     "data": {
      "image/png": "[encoded data removed]",
      "text/plain": [
       "<Figure size 720x720 with 1 Axes>"
      ]
     },
     "metadata": {
      "needs_background": "light"
     },
     "output_type": "display_data"
    }
   ],
   "source": [
    "display(cl_regression)\n",
    "plt.figure(figsize=(10,10))\n",
    "\n",
    "cl_regression_na = cl_regression.iloc[:,[0,3,-1]].to_numpy()\n",
    "cl_regression_na[:,1] = (cl_regression_na[:,1]-cl_regression_na[:,1].min())/(cl_regression_na[:,1].max()-cl_regression_na[:,1].min())\n",
    "plt.scatter(cl_regression_na[:,0], cl_regression_na[:,2], s = 20, label = 'Data', cmap = 'rainbow', c = cl_regression_na[:,1])\n",
    "plt.title('Distance to cafe allocation on hourly sales');plt.xlabel('hourly timeline (h)'); plt.ylabel('hourly sales ($)'); plt.legend(labels = ['averaged hourly distance to cafe']); plt.axis('scaled'); plt.show();\n"
   ]
  },
  {
   "cell_type": "markdown",
   "metadata": {},
   "source": [
    "--------------------"
   ]
  },
  {
   "cell_type": "markdown",
   "metadata": {},
   "source": [
    "## CORRELATION:"
   ]
  },
  {
   "cell_type": "code",
   "execution_count": 186,
   "metadata": {},
   "outputs": [
    {
     "name": "stdout",
     "output_type": "stream",
     "text": [
      "RAINIG Correlation: -0.1443, p-value: 0.00001069\n",
      "DIST_TO_CAFE Correlation: -0.2681, p-value: 0.00000000\n",
      "DAYS_OPEN Correlation: 0.9315, p-value: 0.00000000\n",
      "HOURS_OPEN Correlation: -0.9145, p-value: 0.01064799\n",
      "day_of_week Correlation: 0.7160, p-value: 0.07033141\n"
     ]
    }
   ],
   "source": [
    "'''\n",
    "RAINIG VS SALES CORREL\n",
    "'''\n",
    "# combine['Daily_transaction'] = combine['date'] + '/' + combine['hours_after_open'].astype(str)\n",
    "raining_hourly = combine.groupby(['Daily_transaction','raining'])['Sales (AUD)'].sum().reset_index()\n",
    "rain_dummy = pd.get_dummies(raining_hourly['raining'],drop_first = True)\n",
    "raining_hourly = pd.concat([raining_hourly, rain_dummy], axis =1)\n",
    "combine.insert(9,'Raining',raining_hourly['Yes'],allow_duplicates=False)\n",
    "# print(raining_hourly)\n",
    "from scipy.stats import pearsonr\n",
    "r = pearsonr(raining_hourly['Sales (AUD)'].to_numpy(),raining_hourly['Yes'].to_numpy())\n",
    "print('RAINIG Correlation: {:.4f}, p-value: {:.8f}'.format(r[0],r[1]))\n",
    "# raining_hourly.to_excel(\"raining_houly.xlsx\") \n",
    "\n",
    "\n",
    "'''\n",
    "DIST_TO_CAFE VS SALES CORREL\n",
    "'''\n",
    "studyid_hourly = combine.groupby(['Daily_transaction','dist_to_cafe'])['Sales (AUD)'].sum().reset_index()\n",
    "# print(studyid_hourly)\n",
    "r1 = pearsonr(studyid_hourly['Sales (AUD)'].to_numpy(),studyid_hourly['dist_to_cafe'].to_numpy())\n",
    "print('DIST_TO_CAFE Correlation: {:.4f}, p-value: {:.8f}'.format(r1[0],r1[1]))\n",
    "\n",
    "\n",
    "'''\n",
    "DAYS_OPEN VS SALES CORREL\n",
    "'''\n",
    "days_open_hourly = combine.groupby(['days_after_open'])['Sales (AUD)'].sum().reset_index()\n",
    "# print(days_open_hourly)\n",
    "r2 = pearsonr(days_open_hourly['Sales (AUD)'].to_numpy(),days_open_hourly['days_after_open'].to_numpy())\n",
    "print('DAYS_OPEN Correlation: {:.4f}, p-value: {:.8f}'.format(r2[0],r2[1]))\n",
    "\n",
    "'''\n",
    "HOURS_OPEN VS SALES CORREL\n",
    "'''\n",
    "hours_open_hourly = combine.groupby(['hours_after_open'])['Sales (AUD)'].sum().reset_index()\n",
    "# print(days_open_hourly)\n",
    "r4 = pearsonr(hours_open_hourly['Sales (AUD)'].to_numpy(),hours_open_hourly['hours_after_open'].to_numpy())\n",
    "print('HOURS_OPEN Correlation: {:.4f}, p-value: {:.8f}'.format(r4[0],r4[1]))\n",
    "\n",
    "\n",
    "'''\n",
    "DAY_OF_WEEK VS SALES CORREL\n",
    "'''\n",
    "combine.day_of_week = pd.Categorical(combine.day_of_week)\n",
    "combine['day_of_week'] = combine.day_of_week.cat.codes\n",
    "day_of_week_hourly = combine.groupby(['day_of_week'])['Sales (AUD)'].sum().reset_index()\n",
    "# https://stackoverflow.com/questions/38088652/pandas-convert-categories-to-numbers/38089089\n",
    "# print(day_of_week_hourly)\n",
    "r3 = pearsonr(day_of_week_hourly['Sales (AUD)'].to_numpy(),day_of_week_hourly['day_of_week'].to_numpy())\n",
    "print('day_of_week Correlation: {:.4f}, p-value: {:.8f}'.format(r3[0],r3[1]))\n",
    "\n",
    "\n",
    "\n"
   ]
  },
  {
   "cell_type": "code",
   "execution_count": 187,
   "metadata": {},
   "outputs": [
    {
     "data": {
      "text/html": [
       "<div>\n",
       "<style scoped>\n",
       "    .dataframe tbody tr th:only-of-type {\n",
       "        vertical-align: middle;\n",
       "    }\n",
       "\n",
       "    .dataframe tbody tr th {\n",
       "        vertical-align: top;\n",
       "    }\n",
       "\n",
       "    .dataframe thead th {\n",
       "        text-align: right;\n",
       "    }\n",
       "</style>\n",
       "<table border=\"1\" class=\"dataframe\">\n",
       "  <thead>\n",
       "    <tr style=\"text-align: right;\">\n",
       "      <th></th>\n",
       "      <th>hours_open_till_enddate</th>\n",
       "      <th>Daily_transaction</th>\n",
       "      <th>hours_after_open</th>\n",
       "      <th>dist_to_cafe</th>\n",
       "      <th>day_of_week_Mon</th>\n",
       "      <th>day_of_week_Sat</th>\n",
       "      <th>day_of_week_Sun</th>\n",
       "      <th>day_of_week_Thu</th>\n",
       "      <th>day_of_week_Tue</th>\n",
       "      <th>day_of_week_Wed</th>\n",
       "      <th>raining_Yes</th>\n",
       "      <th>Sales (AUD)</th>\n",
       "    </tr>\n",
       "  </thead>\n",
       "  <tbody>\n",
       "    <tr>\n",
       "      <th>0</th>\n",
       "      <td>0</td>\n",
       "      <td>2019-07-22/0</td>\n",
       "      <td>0.0</td>\n",
       "      <td>264.363636</td>\n",
       "      <td>1</td>\n",
       "      <td>0</td>\n",
       "      <td>0</td>\n",
       "      <td>0</td>\n",
       "      <td>0</td>\n",
       "      <td>0</td>\n",
       "      <td>0</td>\n",
       "      <td>49.0</td>\n",
       "    </tr>\n",
       "    <tr>\n",
       "      <th>1</th>\n",
       "      <td>1</td>\n",
       "      <td>2019-07-22/1</td>\n",
       "      <td>1.0</td>\n",
       "      <td>246.769231</td>\n",
       "      <td>1</td>\n",
       "      <td>0</td>\n",
       "      <td>0</td>\n",
       "      <td>0</td>\n",
       "      <td>0</td>\n",
       "      <td>0</td>\n",
       "      <td>0</td>\n",
       "      <td>83.6</td>\n",
       "    </tr>\n",
       "    <tr>\n",
       "      <th>2</th>\n",
       "      <td>2</td>\n",
       "      <td>2019-07-22/2</td>\n",
       "      <td>2.0</td>\n",
       "      <td>77.000000</td>\n",
       "      <td>1</td>\n",
       "      <td>0</td>\n",
       "      <td>0</td>\n",
       "      <td>0</td>\n",
       "      <td>0</td>\n",
       "      <td>0</td>\n",
       "      <td>1</td>\n",
       "      <td>37.3</td>\n",
       "    </tr>\n",
       "    <tr>\n",
       "      <th>3</th>\n",
       "      <td>3</td>\n",
       "      <td>2019-07-22/3</td>\n",
       "      <td>3.0</td>\n",
       "      <td>471.000000</td>\n",
       "      <td>1</td>\n",
       "      <td>0</td>\n",
       "      <td>0</td>\n",
       "      <td>0</td>\n",
       "      <td>0</td>\n",
       "      <td>0</td>\n",
       "      <td>0</td>\n",
       "      <td>50.6</td>\n",
       "    </tr>\n",
       "    <tr>\n",
       "      <th>4</th>\n",
       "      <td>4</td>\n",
       "      <td>2019-07-22/4</td>\n",
       "      <td>4.0</td>\n",
       "      <td>101.333333</td>\n",
       "      <td>1</td>\n",
       "      <td>0</td>\n",
       "      <td>0</td>\n",
       "      <td>0</td>\n",
       "      <td>0</td>\n",
       "      <td>0</td>\n",
       "      <td>1</td>\n",
       "      <td>16.1</td>\n",
       "    </tr>\n",
       "    <tr>\n",
       "      <th>...</th>\n",
       "      <td>...</td>\n",
       "      <td>...</td>\n",
       "      <td>...</td>\n",
       "      <td>...</td>\n",
       "      <td>...</td>\n",
       "      <td>...</td>\n",
       "      <td>...</td>\n",
       "      <td>...</td>\n",
       "      <td>...</td>\n",
       "      <td>...</td>\n",
       "      <td>...</td>\n",
       "      <td>...</td>\n",
       "    </tr>\n",
       "    <tr>\n",
       "      <th>919</th>\n",
       "      <td>919</td>\n",
       "      <td>2019-12-22/1</td>\n",
       "      <td>1.0</td>\n",
       "      <td>274.741935</td>\n",
       "      <td>0</td>\n",
       "      <td>0</td>\n",
       "      <td>1</td>\n",
       "      <td>0</td>\n",
       "      <td>0</td>\n",
       "      <td>0</td>\n",
       "      <td>0</td>\n",
       "      <td>364.7</td>\n",
       "    </tr>\n",
       "    <tr>\n",
       "      <th>920</th>\n",
       "      <td>920</td>\n",
       "      <td>2019-12-22/2</td>\n",
       "      <td>2.0</td>\n",
       "      <td>285.180328</td>\n",
       "      <td>0</td>\n",
       "      <td>0</td>\n",
       "      <td>1</td>\n",
       "      <td>0</td>\n",
       "      <td>0</td>\n",
       "      <td>0</td>\n",
       "      <td>0</td>\n",
       "      <td>326.1</td>\n",
       "    </tr>\n",
       "    <tr>\n",
       "      <th>921</th>\n",
       "      <td>921</td>\n",
       "      <td>2019-12-22/3</td>\n",
       "      <td>3.0</td>\n",
       "      <td>81.440000</td>\n",
       "      <td>0</td>\n",
       "      <td>0</td>\n",
       "      <td>1</td>\n",
       "      <td>0</td>\n",
       "      <td>0</td>\n",
       "      <td>0</td>\n",
       "      <td>1</td>\n",
       "      <td>266.0</td>\n",
       "    </tr>\n",
       "    <tr>\n",
       "      <th>922</th>\n",
       "      <td>922</td>\n",
       "      <td>2019-12-22/4</td>\n",
       "      <td>4.0</td>\n",
       "      <td>317.206897</td>\n",
       "      <td>0</td>\n",
       "      <td>0</td>\n",
       "      <td>1</td>\n",
       "      <td>0</td>\n",
       "      <td>0</td>\n",
       "      <td>0</td>\n",
       "      <td>0</td>\n",
       "      <td>320.7</td>\n",
       "    </tr>\n",
       "    <tr>\n",
       "      <th>923</th>\n",
       "      <td>923</td>\n",
       "      <td>2019-12-22/5</td>\n",
       "      <td>5.0</td>\n",
       "      <td>254.538462</td>\n",
       "      <td>0</td>\n",
       "      <td>0</td>\n",
       "      <td>1</td>\n",
       "      <td>0</td>\n",
       "      <td>0</td>\n",
       "      <td>0</td>\n",
       "      <td>0</td>\n",
       "      <td>278.5</td>\n",
       "    </tr>\n",
       "  </tbody>\n",
       "</table>\n",
       "<p>924 rows × 12 columns</p>\n",
       "</div>"
      ],
      "text/plain": [
       "     hours_open_till_enddate Daily_transaction  hours_after_open  \\\n",
       "0                          0      2019-07-22/0               0.0   \n",
       "1                          1      2019-07-22/1               1.0   \n",
       "2                          2      2019-07-22/2               2.0   \n",
       "3                          3      2019-07-22/3               3.0   \n",
       "4                          4      2019-07-22/4               4.0   \n",
       "..                       ...               ...               ...   \n",
       "919                      919      2019-12-22/1               1.0   \n",
       "920                      920      2019-12-22/2               2.0   \n",
       "921                      921      2019-12-22/3               3.0   \n",
       "922                      922      2019-12-22/4               4.0   \n",
       "923                      923      2019-12-22/5               5.0   \n",
       "\n",
       "     dist_to_cafe  day_of_week_Mon  day_of_week_Sat  day_of_week_Sun  \\\n",
       "0      264.363636                1                0                0   \n",
       "1      246.769231                1                0                0   \n",
       "2       77.000000                1                0                0   \n",
       "3      471.000000                1                0                0   \n",
       "4      101.333333                1                0                0   \n",
       "..            ...              ...              ...              ...   \n",
       "919    274.741935                0                0                1   \n",
       "920    285.180328                0                0                1   \n",
       "921     81.440000                0                0                1   \n",
       "922    317.206897                0                0                1   \n",
       "923    254.538462                0                0                1   \n",
       "\n",
       "     day_of_week_Thu  day_of_week_Tue  day_of_week_Wed  raining_Yes  \\\n",
       "0                  0                0                0            0   \n",
       "1                  0                0                0            0   \n",
       "2                  0                0                0            1   \n",
       "3                  0                0                0            0   \n",
       "4                  0                0                0            1   \n",
       "..               ...              ...              ...          ...   \n",
       "919                0                0                0            0   \n",
       "920                0                0                0            0   \n",
       "921                0                0                0            1   \n",
       "922                0                0                0            0   \n",
       "923                0                0                0            0   \n",
       "\n",
       "     Sales (AUD)  \n",
       "0           49.0  \n",
       "1           83.6  \n",
       "2           37.3  \n",
       "3           50.6  \n",
       "4           16.1  \n",
       "..           ...  \n",
       "919        364.7  \n",
       "920        326.1  \n",
       "921        266.0  \n",
       "922        320.7  \n",
       "923        278.5  \n",
       "\n",
       "[924 rows x 12 columns]"
      ]
     },
     "execution_count": 187,
     "metadata": {},
     "output_type": "execute_result"
    }
   ],
   "source": [
    "cl_regression"
   ]
  },
  {
   "cell_type": "code",
   "execution_count": 188,
   "metadata": {},
   "outputs": [
    {
     "name": "stdout",
     "output_type": "stream",
     "text": [
      "Quantity vs single transaction Correlation: 0.9558, p-value: 0.00000000\n"
     ]
    }
   ],
   "source": [
    "r5 = pearsonr(cl['Sales (AUD)'].to_numpy(),cl['quantity'].to_numpy())\n",
    "print('Quantity vs single transaction Correlation: {:.4f}, p-value: {:.8f}'.format(r5[0],r5[1]))"
   ]
  },
  {
   "cell_type": "code",
   "execution_count": 189,
   "metadata": {},
   "outputs": [
    {
     "data": {
      "image/png": "[encoded data removed]",
      "text/plain": [
       "<Figure size 1440x1080 with 2 Axes>"
      ]
     },
     "metadata": {
      "needs_background": "light"
     },
     "output_type": "display_data"
    }
   ],
   "source": [
    "# Calculate correlation matrix\n",
    "plt.figure(figsize=(20,15))\n",
    "corr = cl_regression.iloc[:,[0,3,4,5,6,7,8,9,10,11]].corr()\n",
    "n_var = len(corr)\n",
    "\n",
    "\n",
    "plt.imshow(corr, cmap = 'autumn')\n",
    "\n",
    "plt.xticks(range(n_var), corr.columns)\n",
    "plt.yticks(range(n_var), corr.columns)\n",
    "\n",
    "for i in range(n_var):\n",
    "    for j in range(n_var):\n",
    "        plt.text(i,j,'{:.4f}'.format(corr.iloc[i,j]), ha = 'center', va = 'center', color = 'k', fontsize = 20)\n",
    "\n",
    "plt.colorbar()\n",
    "plt.xticks(rotation = 90)\n",
    "plt.title('Correlations on hourly basis')\n",
    "plt.show()"
   ]
  },
  {
   "cell_type": "code",
   "execution_count": 190,
   "metadata": {},
   "outputs": [
    {
     "data": {
      "image/png": "[encoded data removed]",
      "text/plain": [
       "<Figure size 720x576 with 1 Axes>"
      ]
     },
     "metadata": {
      "needs_background": "light"
     },
     "output_type": "display_data"
    }
   ],
   "source": [
    "'''\n",
    "Total sales by hours after open\n",
    "'''\n",
    "hours_open_hourly\n",
    "plt.figure(figsize=(10,8))\n",
    "plt.bar(hours_open_hourly.index, hours_open_hourly['Sales (AUD)'], color = 'lightblue')\n",
    "plt.plot(hours_open_hourly.index, hours_open_hourly, c = 'black', marker = '*')\n",
    "\n",
    "plt.xlabel('Hours after open (h)')\n",
    "plt.ylabel('Total Sales (AUD)')\n",
    "plt.title('Total sales by hours after open')\n",
    "\n",
    "plt.show()"
   ]
  },
  {
   "cell_type": "code",
   "execution_count": 191,
   "metadata": {},
   "outputs": [
    {
     "name": "stdout",
     "output_type": "stream",
     "text": [
      "Average distance to cafe: 232.9023m\n",
      "Average hourly sales: $156.6455\n"
     ]
    }
   ],
   "source": [
    "print('Average distance to cafe: {:.4f}m'.format(cl_regression[\"dist_to_cafe\"].mean()))\n",
    "print('Average hourly sales: ${:.4f}'.format(cl_regression[\"Sales (AUD)\"].mean()))\n"
   ]
  },
  {
   "cell_type": "code",
   "execution_count": 192,
   "metadata": {},
   "outputs": [
    {
     "data": {
      "text/plain": [
       "drink_name         unit_price\n",
       "Ristretto          3.3           1889\n",
       "Latte (L)          4.9           1947\n",
       "Hot Chocolate (S)  3.8           1948\n",
       "Long Black (L)     4.0           1997\n",
       "Mocha (L)          5.4           2001\n",
       "Espresso           3.5           2003\n",
       "Latte (S)          4.0           2012\n",
       "Cappuccino (S)     4.0           2013\n",
       "Chai Latte (L)     4.4           2038\n",
       "Flat White (L)     4.9           2041\n",
       "Macchiato          3.8           2052\n",
       "Chai Latte (S)     3.6           2064\n",
       "Cappuccino (L)     4.9           2065\n",
       "Flat White (S)     4.0           2087\n",
       "Mocha (S)          4.5           2091\n",
       "Hot Chocolate (L)  4.6           2092\n",
       "Long Black (S)     3.8           2096\n",
       "Name: quantity, dtype: int64"
      ]
     },
     "execution_count": 192,
     "metadata": {},
     "output_type": "execute_result"
    }
   ],
   "source": [
    "drink_sale_quantity = cl.groupby(['drink_name', 'unit_price']).sum()['quantity'].sort_values()\n",
    "drink_sale_quantity"
   ]
  },
  {
   "cell_type": "markdown",
   "metadata": {},
   "source": [
    "## Highest sale in location"
   ]
  },
  {
   "cell_type": "code",
   "execution_count": 193,
   "metadata": {},
   "outputs": [
    {
     "data": {
      "text/html": [
       "<div>\n",
       "<style scoped>\n",
       "    .dataframe tbody tr th:only-of-type {\n",
       "        vertical-align: middle;\n",
       "    }\n",
       "\n",
       "    .dataframe tbody tr th {\n",
       "        vertical-align: top;\n",
       "    }\n",
       "\n",
       "    .dataframe thead th {\n",
       "        text-align: right;\n",
       "    }\n",
       "</style>\n",
       "<table border=\"1\" class=\"dataframe\">\n",
       "  <thead>\n",
       "    <tr style=\"text-align: right;\">\n",
       "      <th>study_name</th>\n",
       "      <th>Abercrombie (H70)</th>\n",
       "      <th>Brennan MacCallum (A18)</th>\n",
       "      <th>Carslaw (F07)</th>\n",
       "      <th>Fisher Library (F03)</th>\n",
       "      <th>Law Library (F10)</th>\n",
       "      <th>Peter Nicol Russell (PNR)</th>\n",
       "      <th>The Quarter (A16)</th>\n",
       "    </tr>\n",
       "    <tr>\n",
       "      <th>drink_name</th>\n",
       "      <th></th>\n",
       "      <th></th>\n",
       "      <th></th>\n",
       "      <th></th>\n",
       "      <th></th>\n",
       "      <th></th>\n",
       "      <th></th>\n",
       "    </tr>\n",
       "  </thead>\n",
       "  <tbody>\n",
       "    <tr>\n",
       "      <th>Cappuccino (L)</th>\n",
       "      <td>149</td>\n",
       "      <td>183</td>\n",
       "      <td>305</td>\n",
       "      <td>602</td>\n",
       "      <td>482</td>\n",
       "      <td>162</td>\n",
       "      <td>182</td>\n",
       "    </tr>\n",
       "    <tr>\n",
       "      <th>Cappuccino (S)</th>\n",
       "      <td>167</td>\n",
       "      <td>145</td>\n",
       "      <td>343</td>\n",
       "      <td>520</td>\n",
       "      <td>531</td>\n",
       "      <td>150</td>\n",
       "      <td>157</td>\n",
       "    </tr>\n",
       "    <tr>\n",
       "      <th>Chai Latte (L)</th>\n",
       "      <td>153</td>\n",
       "      <td>147</td>\n",
       "      <td>327</td>\n",
       "      <td>573</td>\n",
       "      <td>538</td>\n",
       "      <td>141</td>\n",
       "      <td>159</td>\n",
       "    </tr>\n",
       "    <tr>\n",
       "      <th>Chai Latte (S)</th>\n",
       "      <td>158</td>\n",
       "      <td>152</td>\n",
       "      <td>389</td>\n",
       "      <td>544</td>\n",
       "      <td>516</td>\n",
       "      <td>168</td>\n",
       "      <td>137</td>\n",
       "    </tr>\n",
       "    <tr>\n",
       "      <th>Espresso</th>\n",
       "      <td>118</td>\n",
       "      <td>176</td>\n",
       "      <td>311</td>\n",
       "      <td>572</td>\n",
       "      <td>544</td>\n",
       "      <td>147</td>\n",
       "      <td>135</td>\n",
       "    </tr>\n",
       "    <tr>\n",
       "      <th>Flat White (L)</th>\n",
       "      <td>191</td>\n",
       "      <td>140</td>\n",
       "      <td>372</td>\n",
       "      <td>561</td>\n",
       "      <td>486</td>\n",
       "      <td>161</td>\n",
       "      <td>130</td>\n",
       "    </tr>\n",
       "    <tr>\n",
       "      <th>Flat White (S)</th>\n",
       "      <td>137</td>\n",
       "      <td>170</td>\n",
       "      <td>382</td>\n",
       "      <td>560</td>\n",
       "      <td>525</td>\n",
       "      <td>142</td>\n",
       "      <td>171</td>\n",
       "    </tr>\n",
       "    <tr>\n",
       "      <th>Hot Chocolate (L)</th>\n",
       "      <td>152</td>\n",
       "      <td>139</td>\n",
       "      <td>409</td>\n",
       "      <td>559</td>\n",
       "      <td>538</td>\n",
       "      <td>169</td>\n",
       "      <td>126</td>\n",
       "    </tr>\n",
       "    <tr>\n",
       "      <th>Hot Chocolate (S)</th>\n",
       "      <td>146</td>\n",
       "      <td>160</td>\n",
       "      <td>310</td>\n",
       "      <td>548</td>\n",
       "      <td>479</td>\n",
       "      <td>166</td>\n",
       "      <td>139</td>\n",
       "    </tr>\n",
       "    <tr>\n",
       "      <th>Latte (L)</th>\n",
       "      <td>139</td>\n",
       "      <td>154</td>\n",
       "      <td>333</td>\n",
       "      <td>529</td>\n",
       "      <td>511</td>\n",
       "      <td>131</td>\n",
       "      <td>150</td>\n",
       "    </tr>\n",
       "    <tr>\n",
       "      <th>Latte (S)</th>\n",
       "      <td>161</td>\n",
       "      <td>114</td>\n",
       "      <td>338</td>\n",
       "      <td>564</td>\n",
       "      <td>515</td>\n",
       "      <td>194</td>\n",
       "      <td>126</td>\n",
       "    </tr>\n",
       "    <tr>\n",
       "      <th>Long Black (L)</th>\n",
       "      <td>162</td>\n",
       "      <td>152</td>\n",
       "      <td>382</td>\n",
       "      <td>571</td>\n",
       "      <td>465</td>\n",
       "      <td>124</td>\n",
       "      <td>141</td>\n",
       "    </tr>\n",
       "    <tr>\n",
       "      <th>Long Black (S)</th>\n",
       "      <td>138</td>\n",
       "      <td>133</td>\n",
       "      <td>359</td>\n",
       "      <td>599</td>\n",
       "      <td>539</td>\n",
       "      <td>168</td>\n",
       "      <td>160</td>\n",
       "    </tr>\n",
       "    <tr>\n",
       "      <th>Macchiato</th>\n",
       "      <td>180</td>\n",
       "      <td>161</td>\n",
       "      <td>389</td>\n",
       "      <td>546</td>\n",
       "      <td>511</td>\n",
       "      <td>127</td>\n",
       "      <td>138</td>\n",
       "    </tr>\n",
       "    <tr>\n",
       "      <th>Mocha (L)</th>\n",
       "      <td>143</td>\n",
       "      <td>123</td>\n",
       "      <td>374</td>\n",
       "      <td>580</td>\n",
       "      <td>505</td>\n",
       "      <td>164</td>\n",
       "      <td>112</td>\n",
       "    </tr>\n",
       "    <tr>\n",
       "      <th>Mocha (S)</th>\n",
       "      <td>168</td>\n",
       "      <td>133</td>\n",
       "      <td>355</td>\n",
       "      <td>608</td>\n",
       "      <td>514</td>\n",
       "      <td>158</td>\n",
       "      <td>155</td>\n",
       "    </tr>\n",
       "    <tr>\n",
       "      <th>Ristretto</th>\n",
       "      <td>144</td>\n",
       "      <td>137</td>\n",
       "      <td>308</td>\n",
       "      <td>544</td>\n",
       "      <td>510</td>\n",
       "      <td>126</td>\n",
       "      <td>120</td>\n",
       "    </tr>\n",
       "  </tbody>\n",
       "</table>\n",
       "</div>"
      ],
      "text/plain": [
       "study_name         Abercrombie (H70)  Brennan MacCallum (A18)  Carslaw (F07)  \\\n",
       "drink_name                                                                     \n",
       "Cappuccino (L)                   149                      183            305   \n",
       "Cappuccino (S)                   167                      145            343   \n",
       "Chai Latte (L)                   153                      147            327   \n",
       "Chai Latte (S)                   158                      152            389   \n",
       "Espresso                         118                      176            311   \n",
       "Flat White (L)                   191                      140            372   \n",
       "Flat White (S)                   137                      170            382   \n",
       "Hot Chocolate (L)                152                      139            409   \n",
       "Hot Chocolate (S)                146                      160            310   \n",
       "Latte (L)                        139                      154            333   \n",
       "Latte (S)                        161                      114            338   \n",
       "Long Black (L)                   162                      152            382   \n",
       "Long Black (S)                   138                      133            359   \n",
       "Macchiato                        180                      161            389   \n",
       "Mocha (L)                        143                      123            374   \n",
       "Mocha (S)                        168                      133            355   \n",
       "Ristretto                        144                      137            308   \n",
       "\n",
       "study_name         Fisher Library (F03)  Law Library (F10)  \\\n",
       "drink_name                                                   \n",
       "Cappuccino (L)                      602                482   \n",
       "Cappuccino (S)                      520                531   \n",
       "Chai Latte (L)                      573                538   \n",
       "Chai Latte (S)                      544                516   \n",
       "Espresso                            572                544   \n",
       "Flat White (L)                      561                486   \n",
       "Flat White (S)                      560                525   \n",
       "Hot Chocolate (L)                   559                538   \n",
       "Hot Chocolate (S)                   548                479   \n",
       "Latte (L)                           529                511   \n",
       "Latte (S)                           564                515   \n",
       "Long Black (L)                      571                465   \n",
       "Long Black (S)                      599                539   \n",
       "Macchiato                           546                511   \n",
       "Mocha (L)                           580                505   \n",
       "Mocha (S)                           608                514   \n",
       "Ristretto                           544                510   \n",
       "\n",
       "study_name         Peter Nicol Russell (PNR)  The Quarter (A16)  \n",
       "drink_name                                                       \n",
       "Cappuccino (L)                           162                182  \n",
       "Cappuccino (S)                           150                157  \n",
       "Chai Latte (L)                           141                159  \n",
       "Chai Latte (S)                           168                137  \n",
       "Espresso                                 147                135  \n",
       "Flat White (L)                           161                130  \n",
       "Flat White (S)                           142                171  \n",
       "Hot Chocolate (L)                        169                126  \n",
       "Hot Chocolate (S)                        166                139  \n",
       "Latte (L)                                131                150  \n",
       "Latte (S)                                194                126  \n",
       "Long Black (L)                           124                141  \n",
       "Long Black (S)                           168                160  \n",
       "Macchiato                                127                138  \n",
       "Mocha (L)                                164                112  \n",
       "Mocha (S)                                158                155  \n",
       "Ristretto                                126                120  "
      ]
     },
     "metadata": {},
     "output_type": "display_data"
    },
    {
     "data": {
      "text/html": [
       "<div>\n",
       "<style scoped>\n",
       "    .dataframe tbody tr th:only-of-type {\n",
       "        vertical-align: middle;\n",
       "    }\n",
       "\n",
       "    .dataframe tbody tr th {\n",
       "        vertical-align: top;\n",
       "    }\n",
       "\n",
       "    .dataframe thead th {\n",
       "        text-align: right;\n",
       "    }\n",
       "</style>\n",
       "<table border=\"1\" class=\"dataframe\">\n",
       "  <thead>\n",
       "    <tr style=\"text-align: right;\">\n",
       "      <th>study_name</th>\n",
       "      <th>Abercrombie (H70)</th>\n",
       "      <th>Brennan MacCallum (A18)</th>\n",
       "      <th>Carslaw (F07)</th>\n",
       "      <th>Fisher Library (F03)</th>\n",
       "      <th>Law Library (F10)</th>\n",
       "      <th>Peter Nicol Russell (PNR)</th>\n",
       "      <th>The Quarter (A16)</th>\n",
       "    </tr>\n",
       "  </thead>\n",
       "  <tbody>\n",
       "    <tr>\n",
       "      <th>count</th>\n",
       "      <td>17.000000</td>\n",
       "      <td>17.000000</td>\n",
       "      <td>17.000000</td>\n",
       "      <td>17.000000</td>\n",
       "      <td>17.000000</td>\n",
       "      <td>17.000000</td>\n",
       "      <td>17.000000</td>\n",
       "    </tr>\n",
       "    <tr>\n",
       "      <th>mean</th>\n",
       "      <td>153.294118</td>\n",
       "      <td>148.176471</td>\n",
       "      <td>352.117647</td>\n",
       "      <td>563.529412</td>\n",
       "      <td>512.294118</td>\n",
       "      <td>152.823529</td>\n",
       "      <td>143.411765</td>\n",
       "    </tr>\n",
       "    <tr>\n",
       "      <th>std</th>\n",
       "      <td>17.520576</td>\n",
       "      <td>18.337923</td>\n",
       "      <td>33.149062</td>\n",
       "      <td>24.548721</td>\n",
       "      <td>23.172626</td>\n",
       "      <td>19.180834</td>\n",
       "      <td>18.738526</td>\n",
       "    </tr>\n",
       "    <tr>\n",
       "      <th>min</th>\n",
       "      <td>118.000000</td>\n",
       "      <td>114.000000</td>\n",
       "      <td>305.000000</td>\n",
       "      <td>520.000000</td>\n",
       "      <td>465.000000</td>\n",
       "      <td>124.000000</td>\n",
       "      <td>112.000000</td>\n",
       "    </tr>\n",
       "    <tr>\n",
       "      <th>25%</th>\n",
       "      <td>143.000000</td>\n",
       "      <td>137.000000</td>\n",
       "      <td>327.000000</td>\n",
       "      <td>546.000000</td>\n",
       "      <td>505.000000</td>\n",
       "      <td>141.000000</td>\n",
       "      <td>130.000000</td>\n",
       "    </tr>\n",
       "    <tr>\n",
       "      <th>50%</th>\n",
       "      <td>152.000000</td>\n",
       "      <td>147.000000</td>\n",
       "      <td>355.000000</td>\n",
       "      <td>561.000000</td>\n",
       "      <td>514.000000</td>\n",
       "      <td>158.000000</td>\n",
       "      <td>139.000000</td>\n",
       "    </tr>\n",
       "    <tr>\n",
       "      <th>75%</th>\n",
       "      <td>162.000000</td>\n",
       "      <td>160.000000</td>\n",
       "      <td>382.000000</td>\n",
       "      <td>573.000000</td>\n",
       "      <td>531.000000</td>\n",
       "      <td>166.000000</td>\n",
       "      <td>157.000000</td>\n",
       "    </tr>\n",
       "    <tr>\n",
       "      <th>max</th>\n",
       "      <td>191.000000</td>\n",
       "      <td>183.000000</td>\n",
       "      <td>409.000000</td>\n",
       "      <td>608.000000</td>\n",
       "      <td>544.000000</td>\n",
       "      <td>194.000000</td>\n",
       "      <td>182.000000</td>\n",
       "    </tr>\n",
       "  </tbody>\n",
       "</table>\n",
       "</div>"
      ],
      "text/plain": [
       "study_name  Abercrombie (H70)  Brennan MacCallum (A18)  Carslaw (F07)  \\\n",
       "count               17.000000                17.000000      17.000000   \n",
       "mean               153.294118               148.176471     352.117647   \n",
       "std                 17.520576                18.337923      33.149062   \n",
       "min                118.000000               114.000000     305.000000   \n",
       "25%                143.000000               137.000000     327.000000   \n",
       "50%                152.000000               147.000000     355.000000   \n",
       "75%                162.000000               160.000000     382.000000   \n",
       "max                191.000000               183.000000     409.000000   \n",
       "\n",
       "study_name  Fisher Library (F03)  Law Library (F10)  \\\n",
       "count                  17.000000          17.000000   \n",
       "mean                  563.529412         512.294118   \n",
       "std                    24.548721          23.172626   \n",
       "min                   520.000000         465.000000   \n",
       "25%                   546.000000         505.000000   \n",
       "50%                   561.000000         514.000000   \n",
       "75%                   573.000000         531.000000   \n",
       "max                   608.000000         544.000000   \n",
       "\n",
       "study_name  Peter Nicol Russell (PNR)  The Quarter (A16)  \n",
       "count                       17.000000          17.000000  \n",
       "mean                       152.823529         143.411765  \n",
       "std                         19.180834          18.738526  \n",
       "min                        124.000000         112.000000  \n",
       "25%                        141.000000         130.000000  \n",
       "50%                        158.000000         139.000000  \n",
       "75%                        166.000000         157.000000  \n",
       "max                        194.000000         182.000000  "
      ]
     },
     "execution_count": 193,
     "metadata": {},
     "output_type": "execute_result"
    }
   ],
   "source": [
    "location_quantity_sale = cl.groupby(['drink_name','study_name']).sum()['quantity'].unstack()\n",
    "# location_quantity_sale_list = cl.groupby(['drink_name','study_name']).sum()['quantity'].reset_index()\n",
    "describe_location_quantity = location_quantity_sale.describe(exclude=[object])\n",
    "display(location_quantity_sale)\n",
    "describe_location_quantity"
   ]
  },
  {
   "cell_type": "code",
   "execution_count": 194,
   "metadata": {},
   "outputs": [
    {
     "data": {
      "text/html": [
       "<div>\n",
       "<style scoped>\n",
       "    .dataframe tbody tr th:only-of-type {\n",
       "        vertical-align: middle;\n",
       "    }\n",
       "\n",
       "    .dataframe tbody tr th {\n",
       "        vertical-align: top;\n",
       "    }\n",
       "\n",
       "    .dataframe thead th {\n",
       "        text-align: right;\n",
       "    }\n",
       "</style>\n",
       "<table border=\"1\" class=\"dataframe\">\n",
       "  <thead>\n",
       "    <tr style=\"text-align: right;\">\n",
       "      <th>study_name</th>\n",
       "      <th>Abercrombie (H70)</th>\n",
       "      <th>Brennan MacCallum (A18)</th>\n",
       "      <th>Carslaw (F07)</th>\n",
       "      <th>Fisher Library (F03)</th>\n",
       "      <th>Law Library (F10)</th>\n",
       "      <th>Peter Nicol Russell (PNR)</th>\n",
       "      <th>The Quarter (A16)</th>\n",
       "    </tr>\n",
       "    <tr>\n",
       "      <th>drink_name</th>\n",
       "      <th></th>\n",
       "      <th></th>\n",
       "      <th></th>\n",
       "      <th></th>\n",
       "      <th></th>\n",
       "      <th></th>\n",
       "      <th></th>\n",
       "    </tr>\n",
       "  </thead>\n",
       "  <tbody>\n",
       "    <tr>\n",
       "      <th>Cappuccino (L)</th>\n",
       "      <td>0.057176</td>\n",
       "      <td>0.072648</td>\n",
       "      <td>0.050952</td>\n",
       "      <td>0.062839</td>\n",
       "      <td>0.055345</td>\n",
       "      <td>0.062356</td>\n",
       "      <td>0.074651</td>\n",
       "    </tr>\n",
       "    <tr>\n",
       "      <th>Cappuccino (S)</th>\n",
       "      <td>0.064083</td>\n",
       "      <td>0.057563</td>\n",
       "      <td>0.057300</td>\n",
       "      <td>0.054280</td>\n",
       "      <td>0.060971</td>\n",
       "      <td>0.057737</td>\n",
       "      <td>0.064397</td>\n",
       "    </tr>\n",
       "    <tr>\n",
       "      <th>Chai Latte (L)</th>\n",
       "      <td>0.058711</td>\n",
       "      <td>0.058356</td>\n",
       "      <td>0.054627</td>\n",
       "      <td>0.059812</td>\n",
       "      <td>0.061775</td>\n",
       "      <td>0.054273</td>\n",
       "      <td>0.065217</td>\n",
       "    </tr>\n",
       "    <tr>\n",
       "      <th>Chai Latte (S)</th>\n",
       "      <td>0.060629</td>\n",
       "      <td>0.060341</td>\n",
       "      <td>0.064985</td>\n",
       "      <td>0.056785</td>\n",
       "      <td>0.059249</td>\n",
       "      <td>0.064665</td>\n",
       "      <td>0.056194</td>\n",
       "    </tr>\n",
       "    <tr>\n",
       "      <th>Espresso</th>\n",
       "      <td>0.045280</td>\n",
       "      <td>0.069869</td>\n",
       "      <td>0.051955</td>\n",
       "      <td>0.059708</td>\n",
       "      <td>0.062464</td>\n",
       "      <td>0.056582</td>\n",
       "      <td>0.055373</td>\n",
       "    </tr>\n",
       "    <tr>\n",
       "      <th>Flat White (L)</th>\n",
       "      <td>0.073292</td>\n",
       "      <td>0.055578</td>\n",
       "      <td>0.062145</td>\n",
       "      <td>0.058559</td>\n",
       "      <td>0.055804</td>\n",
       "      <td>0.061971</td>\n",
       "      <td>0.053322</td>\n",
       "    </tr>\n",
       "    <tr>\n",
       "      <th>Flat White (S)</th>\n",
       "      <td>0.052571</td>\n",
       "      <td>0.067487</td>\n",
       "      <td>0.063816</td>\n",
       "      <td>0.058455</td>\n",
       "      <td>0.060282</td>\n",
       "      <td>0.054657</td>\n",
       "      <td>0.070139</td>\n",
       "    </tr>\n",
       "    <tr>\n",
       "      <th>Hot Chocolate (L)</th>\n",
       "      <td>0.058327</td>\n",
       "      <td>0.055181</td>\n",
       "      <td>0.068326</td>\n",
       "      <td>0.058351</td>\n",
       "      <td>0.061775</td>\n",
       "      <td>0.065050</td>\n",
       "      <td>0.051682</td>\n",
       "    </tr>\n",
       "    <tr>\n",
       "      <th>Hot Chocolate (S)</th>\n",
       "      <td>0.056025</td>\n",
       "      <td>0.063517</td>\n",
       "      <td>0.051788</td>\n",
       "      <td>0.057203</td>\n",
       "      <td>0.055001</td>\n",
       "      <td>0.063895</td>\n",
       "      <td>0.057014</td>\n",
       "    </tr>\n",
       "    <tr>\n",
       "      <th>Latte (L)</th>\n",
       "      <td>0.053338</td>\n",
       "      <td>0.061135</td>\n",
       "      <td>0.055630</td>\n",
       "      <td>0.055219</td>\n",
       "      <td>0.058675</td>\n",
       "      <td>0.050423</td>\n",
       "      <td>0.061526</td>\n",
       "    </tr>\n",
       "    <tr>\n",
       "      <th>Latte (S)</th>\n",
       "      <td>0.061781</td>\n",
       "      <td>0.045256</td>\n",
       "      <td>0.056465</td>\n",
       "      <td>0.058873</td>\n",
       "      <td>0.059134</td>\n",
       "      <td>0.074673</td>\n",
       "      <td>0.051682</td>\n",
       "    </tr>\n",
       "    <tr>\n",
       "      <th>Long Black (L)</th>\n",
       "      <td>0.062164</td>\n",
       "      <td>0.060341</td>\n",
       "      <td>0.063816</td>\n",
       "      <td>0.059603</td>\n",
       "      <td>0.053393</td>\n",
       "      <td>0.047729</td>\n",
       "      <td>0.057834</td>\n",
       "    </tr>\n",
       "    <tr>\n",
       "      <th>Long Black (S)</th>\n",
       "      <td>0.052955</td>\n",
       "      <td>0.052799</td>\n",
       "      <td>0.059973</td>\n",
       "      <td>0.062526</td>\n",
       "      <td>0.061890</td>\n",
       "      <td>0.064665</td>\n",
       "      <td>0.065628</td>\n",
       "    </tr>\n",
       "    <tr>\n",
       "      <th>Macchiato</th>\n",
       "      <td>0.069071</td>\n",
       "      <td>0.063914</td>\n",
       "      <td>0.064985</td>\n",
       "      <td>0.056994</td>\n",
       "      <td>0.058675</td>\n",
       "      <td>0.048884</td>\n",
       "      <td>0.056604</td>\n",
       "    </tr>\n",
       "    <tr>\n",
       "      <th>Mocha (L)</th>\n",
       "      <td>0.054873</td>\n",
       "      <td>0.048829</td>\n",
       "      <td>0.062479</td>\n",
       "      <td>0.060543</td>\n",
       "      <td>0.057986</td>\n",
       "      <td>0.063125</td>\n",
       "      <td>0.045939</td>\n",
       "    </tr>\n",
       "    <tr>\n",
       "      <th>Mocha (S)</th>\n",
       "      <td>0.064467</td>\n",
       "      <td>0.052799</td>\n",
       "      <td>0.059305</td>\n",
       "      <td>0.063466</td>\n",
       "      <td>0.059019</td>\n",
       "      <td>0.060816</td>\n",
       "      <td>0.063577</td>\n",
       "    </tr>\n",
       "    <tr>\n",
       "      <th>Ristretto</th>\n",
       "      <td>0.055257</td>\n",
       "      <td>0.054387</td>\n",
       "      <td>0.051453</td>\n",
       "      <td>0.056785</td>\n",
       "      <td>0.058560</td>\n",
       "      <td>0.048499</td>\n",
       "      <td>0.049221</td>\n",
       "    </tr>\n",
       "  </tbody>\n",
       "</table>\n",
       "</div>"
      ],
      "text/plain": [
       "study_name         Abercrombie (H70)  Brennan MacCallum (A18)  Carslaw (F07)  \\\n",
       "drink_name                                                                     \n",
       "Cappuccino (L)              0.057176                 0.072648       0.050952   \n",
       "Cappuccino (S)              0.064083                 0.057563       0.057300   \n",
       "Chai Latte (L)              0.058711                 0.058356       0.054627   \n",
       "Chai Latte (S)              0.060629                 0.060341       0.064985   \n",
       "Espresso                    0.045280                 0.069869       0.051955   \n",
       "Flat White (L)              0.073292                 0.055578       0.062145   \n",
       "Flat White (S)              0.052571                 0.067487       0.063816   \n",
       "Hot Chocolate (L)           0.058327                 0.055181       0.068326   \n",
       "Hot Chocolate (S)           0.056025                 0.063517       0.051788   \n",
       "Latte (L)                   0.053338                 0.061135       0.055630   \n",
       "Latte (S)                   0.061781                 0.045256       0.056465   \n",
       "Long Black (L)              0.062164                 0.060341       0.063816   \n",
       "Long Black (S)              0.052955                 0.052799       0.059973   \n",
       "Macchiato                   0.069071                 0.063914       0.064985   \n",
       "Mocha (L)                   0.054873                 0.048829       0.062479   \n",
       "Mocha (S)                   0.064467                 0.052799       0.059305   \n",
       "Ristretto                   0.055257                 0.054387       0.051453   \n",
       "\n",
       "study_name         Fisher Library (F03)  Law Library (F10)  \\\n",
       "drink_name                                                   \n",
       "Cappuccino (L)                 0.062839           0.055345   \n",
       "Cappuccino (S)                 0.054280           0.060971   \n",
       "Chai Latte (L)                 0.059812           0.061775   \n",
       "Chai Latte (S)                 0.056785           0.059249   \n",
       "Espresso                       0.059708           0.062464   \n",
       "Flat White (L)                 0.058559           0.055804   \n",
       "Flat White (S)                 0.058455           0.060282   \n",
       "Hot Chocolate (L)              0.058351           0.061775   \n",
       "Hot Chocolate (S)              0.057203           0.055001   \n",
       "Latte (L)                      0.055219           0.058675   \n",
       "Latte (S)                      0.058873           0.059134   \n",
       "Long Black (L)                 0.059603           0.053393   \n",
       "Long Black (S)                 0.062526           0.061890   \n",
       "Macchiato                      0.056994           0.058675   \n",
       "Mocha (L)                      0.060543           0.057986   \n",
       "Mocha (S)                      0.063466           0.059019   \n",
       "Ristretto                      0.056785           0.058560   \n",
       "\n",
       "study_name         Peter Nicol Russell (PNR)  The Quarter (A16)  \n",
       "drink_name                                                       \n",
       "Cappuccino (L)                      0.062356           0.074651  \n",
       "Cappuccino (S)                      0.057737           0.064397  \n",
       "Chai Latte (L)                      0.054273           0.065217  \n",
       "Chai Latte (S)                      0.064665           0.056194  \n",
       "Espresso                            0.056582           0.055373  \n",
       "Flat White (L)                      0.061971           0.053322  \n",
       "Flat White (S)                      0.054657           0.070139  \n",
       "Hot Chocolate (L)                   0.065050           0.051682  \n",
       "Hot Chocolate (S)                   0.063895           0.057014  \n",
       "Latte (L)                           0.050423           0.061526  \n",
       "Latte (S)                           0.074673           0.051682  \n",
       "Long Black (L)                      0.047729           0.057834  \n",
       "Long Black (S)                      0.064665           0.065628  \n",
       "Macchiato                           0.048884           0.056604  \n",
       "Mocha (L)                           0.063125           0.045939  \n",
       "Mocha (S)                           0.060816           0.063577  \n",
       "Ristretto                           0.048499           0.049221  "
      ]
     },
     "execution_count": 194,
     "metadata": {},
     "output_type": "execute_result"
    }
   ],
   "source": [
    "location_quantity_sale_proportion = location_quantity_sale.div(location_quantity_sale.sum(axis=0), axis= 1)\n",
    "# https://stackoverflow.com/questions/50820659/compute-row-percentages-in-pandas-dataframe\n",
    "location_quantity_sale_proportion"
   ]
  },
  {
   "cell_type": "code",
   "execution_count": 195,
   "metadata": {},
   "outputs": [],
   "source": [
    "# drink_frequency = pd.crosstab(cl['drink_name'], cl['study_name'])\n",
    "# drink_frequency"
   ]
  },
  {
   "cell_type": "markdown",
   "metadata": {},
   "source": [
    "--------------------"
   ]
  },
  {
   "cell_type": "markdown",
   "metadata": {},
   "source": [
    "# Q2: "
   ]
  },
  {
   "cell_type": "markdown",
   "metadata": {},
   "source": [
    "## polynomials: days_after_open"
   ]
  },
  {
   "cell_type": "markdown",
   "metadata": {},
   "source": [
    "### Prediction on 2 degree of polynomial"
   ]
  },
  {
   "cell_type": "code",
   "execution_count": 196,
   "metadata": {
    "scrolled": true
   },
   "outputs": [
    {
     "name": "stdout",
     "output_type": "stream",
     "text": [
      "beta 0: 37.76994214\n",
      "beta 1: -0.04799692\n",
      "beta 2: 0.00049008\n",
      "(370, 2)\n"
     ]
    }
   ],
   "source": [
    "Average_hourly_sales_per_day['days_after_open_index'] = range(1, len(Average_hourly_sales_per_day) + 1)\n",
    "#https://stackoverflow.com/questions/12168648/pandas-python-how-to-add-column-to-dataframe-for-index\n",
    "\n",
    "Average_hourly_sales_per_day['days_after_open_index^2'] = Average_hourly_sales_per_day['days_after_open_index']**2\n",
    "Average_hourly_sales_per_day['days_after_open_index^3'] = Average_hourly_sales_per_day['days_after_open_index']**3\n",
    "\n",
    "\n",
    "X = Average_hourly_sales_per_day[['days_after_open_index','days_after_open_index^2']]\n",
    "y = Average_hourly_sales_per_day['Sales (AUD)'].to_numpy()\n",
    "\n",
    "X_train, X_test, y_train, y_test = train_test_split(X, y, test_size = 0.4, random_state = 1)\n",
    "\n",
    "ones = np.ones((X_train.shape[0], 1))\n",
    "X_train = np.hstack((ones, X_train))\n",
    "\n",
    "beta = np.linalg.inv(X_train.T @ X_train) @ X_train.T @ y_train\n",
    "\n",
    "for i in range(3):\n",
    "    print('beta {}: {:.8f}'.format(i, beta[i]))    \n",
    "print(X_test.shape)"
   ]
  },
  {
   "cell_type": "code",
   "execution_count": 197,
   "metadata": {},
   "outputs": [
    {
     "data": {
      "image/png": "[encoded data removed]",
      "text/plain": [
       "<Figure size 720x720 with 1 Axes>"
      ]
     },
     "metadata": {
      "needs_background": "light"
     },
     "output_type": "display_data"
    }
   ],
   "source": [
    "'''\n",
    "Predictor x = 100 days later after last recorded hour.\n",
    "'''\n",
    "hour_th=0\n",
    "df = pd.DataFrame(columns=('A', 'B'))\n",
    "for i in range(hour_th,hour_th+100):\n",
    "    df.loc[i] = [i, i**2]    \n",
    "betas= np.array([beta[0], beta[1], beta[2]])\n",
    "\n",
    "new_data = np.hstack((np.ones((df.shape[0],1)), df))\n",
    "df = np.dot(new_data, betas.T)\n",
    "df = pd.DataFrame(df, columns = ['Sales (AUD)'])\n",
    "\n",
    "plt.figure(figsize=(10,10))\n",
    "\n",
    "plt.plot(df, '.', color = 'blue', alpha = 0.5, linewidth = 0.05)\n",
    "\n",
    "plt.xlabel('Hours after last recorded hour (h)')\n",
    "plt.ylabel('Average hourly Sales per hour(AUD)')\n",
    "plt.title('Polynomial prediction of first 100 hourly sales')\n",
    "\n",
    "plt.show()"
   ]
  },
  {
   "cell_type": "code",
   "execution_count": 198,
   "metadata": {
    "scrolled": false
   },
   "outputs": [
    {
     "name": "stdout",
     "output_type": "stream",
     "text": [
      "   Sales (AUD)\n",
      "0      37.7699\n",
      "1      37.7224\n",
      "2      37.6759\n",
      "3      37.6304\n",
      "4      37.5858\n",
      "..         ...\n",
      "95     37.6332\n",
      "96     37.6789\n",
      "97     37.7254\n",
      "98      37.773\n",
      "99     37.8216\n",
      "\n",
      "[100 rows x 1 columns]\n"
     ]
    }
   ],
   "source": [
    "'''\n",
    "Predictor x = 0~100th hour.\n",
    "'''\n",
    "hour_th=0\n",
    "df = pd.DataFrame(columns=['A', 'B'])\n",
    "for i in range(hour_th,hour_th+100):\n",
    "    df.loc[i] = [i, i**2]    \n",
    "betas= np.array([beta[0], beta[1], beta[2]])\n",
    "\n",
    "new_data = np.hstack((np.ones((df.shape[0],1)), df))\n",
    "df = np.dot(new_data, betas.T)\n",
    "pred_y_1st_100h_beta2 = pd.DataFrame(df, columns = ['Sales (AUD)'])\n",
    "\n",
    "print(pred_y_1st_100h_beta2)"
   ]
  },
  {
   "cell_type": "code",
   "execution_count": 199,
   "metadata": {
    "scrolled": false
   },
   "outputs": [
    {
     "name": "stdout",
     "output_type": "stream",
     "text": [
      "prediction on 100h (2nd degree) mse: 519.92578075\n",
      "RMSE: 22.8019\n"
     ]
    }
   ],
   "source": [
    "true_y = Average_hourly_sales_per_day['Sales (AUD)'].iloc[:100]\n",
    "print('prediction on 100h (2nd degree) mse: {:.8f}'.format(mse(pred_y_1st_100h_beta2,true_y)))\n",
    "print('RMSE: {:.4f}'.format(np.sqrt(mse(pred_y_1st_100h_beta2,true_y))))\n"
   ]
  },
  {
   "cell_type": "code",
   "execution_count": 200,
   "metadata": {},
   "outputs": [
    {
     "name": "stdout",
     "output_type": "stream",
     "text": [
      "    Sales (AUD)\n",
      "0       411.843\n",
      "1       412.701\n",
      "2        413.56\n",
      "3        414.42\n",
      "4       415.281\n",
      "..          ...\n",
      "295     707.508\n",
      "296     708.655\n",
      "297     709.803\n",
      "298     710.953\n",
      "299     712.103\n",
      "\n",
      "[300 rows x 1 columns]\n"
     ]
    }
   ],
   "source": [
    "'''\n",
    "Predictor x = 300 hours later after last recorded hour. 924th\n",
    "'''\n",
    "hour_th=924\n",
    "df = pd.DataFrame(columns=['A','B'])\n",
    "for i in range(hour_th,hour_th+300):\n",
    "    df.loc[i] = [i, i**2]    \n",
    "betas= np.array([beta[0], beta[1], beta[2]])\n",
    "\n",
    "new_data = np.hstack((np.ones((df.shape[0],1)), df))\n",
    "df = np.dot(new_data, betas.T)\n",
    "df = pd.DataFrame(df, columns = ['Sales (AUD)'])\n",
    "\n",
    "print(df)"
   ]
  },
  {
   "cell_type": "code",
   "execution_count": 201,
   "metadata": {},
   "outputs": [
    {
     "name": "stdout",
     "output_type": "stream",
     "text": [
      "2019-11-17/1 hour: $250.74\n"
     ]
    }
   ],
   "source": [
    "'''\n",
    "Predictor x = 710th hour = 2019-11-17/1 hour\n",
    "'''\n",
    "hour_th=710\n",
    "data = np.array([[hour_th, hour_th**2]])\n",
    "betas= np.array([beta[0], beta[1], beta[2]])\n",
    "\n",
    "new_data = np.hstack((np.ones((data.shape[0],1)), data))\n",
    "print('2019-11-17/1 hour: ${:.2f}'.format(np.dot(new_data, betas.T)[0]))"
   ]
  },
  {
   "cell_type": "code",
   "execution_count": 202,
   "metadata": {},
   "outputs": [
    {
     "name": "stdout",
     "output_type": "stream",
     "text": [
      "prediction on x_test (2nd degree)  mse: 1689.64171884\n",
      "prediction on x_train (2nd degree) train mse: 1515.75532728\n"
     ]
    }
   ],
   "source": [
    "'''\n",
    "exam the model on test data\n",
    "'''\n",
    "row = X_test.shape[0]\n",
    "data = X_test\n",
    "betas= np.array([beta[0], beta[1], beta[2]])\n",
    "new_data = np.hstack((np.ones((row,1)), data))\n",
    "\n",
    "# print(new_data @ betas.T)\n",
    "pred_y_beta2_on_Xtest = new_data @ betas.T\n",
    "print('prediction on x_test (2nd degree)  mse: {:.8f}'.format(mse(pred_y_beta2_on_Xtest,y_test)))\n",
    "\n",
    "\n",
    "'''\n",
    "exam the model on test data\n",
    "'''\n",
    "roww = X_train.shape[0]\n",
    "dataa = X_train\n",
    "betas= np.array([beta[0], beta[1], beta[2]])\n",
    "# print(dataa @ betas.T)\n",
    "\n",
    "predd_y_beta2_on_Xtrain = dataa @ betas.T\n",
    "print('prediction on x_train (2nd degree) train mse: {:.8f}'.format(mse(predd_y_beta2_on_Xtrain,y_train)))"
   ]
  },
  {
   "cell_type": "markdown",
   "metadata": {},
   "source": [
    "### Prediction on 3 degree of polynomial"
   ]
  },
  {
   "cell_type": "code",
   "execution_count": 203,
   "metadata": {},
   "outputs": [
    {
     "name": "stdout",
     "output_type": "stream",
     "text": [
      "beta 0: 82.32022772\n",
      "beta 1: -0.61229447\n",
      "beta 2: 0.00201469\n",
      "beta 3: -0.00000110\n"
     ]
    },
    {
     "data": {
      "image/png": "[encoded data removed]",
      "text/plain": [
       "<Figure size 720x720 with 1 Axes>"
      ]
     },
     "metadata": {
      "needs_background": "light"
     },
     "output_type": "display_data"
    }
   ],
   "source": [
    "X = Average_hourly_sales_per_day[['days_after_open_index','days_after_open_index^2','days_after_open_index^3']]\n",
    "y = Average_hourly_sales_per_day['Sales (AUD)'].to_numpy()\n",
    "\n",
    "X_train, X_test, y_train, y_test = train_test_split(X, y, shuffle = True, test_size = 0.4, random_state = 1)\n",
    "\n",
    "ones = np.ones((X_train.shape[0], 1))\n",
    "X_train = np.hstack((ones, X_train))\n",
    "\n",
    "beta = np.linalg.inv(X_train.T @ X_train) @ X_train.T @ y_train\n",
    "\n",
    "for i in range(4):\n",
    "    print('beta {}: {:.8f}'.format(i, beta[i]))    \n",
    "'''\n",
    "Predictor x = 300 hours later after last recorded hour.\n",
    "'''\n",
    "hour_th=924\n",
    "df = pd.DataFrame(columns=('A', 'B', 'C'))\n",
    "for i in range(hour_th,hour_th+300):\n",
    "    df.loc[i] = [i, i**2,i**3]    \n",
    "betas= np.array([beta[0], beta[1], beta[2], beta[3]])\n",
    "\n",
    "new_data = np.hstack((np.ones((df.shape[0],1)), df))\n",
    "df = np.dot(new_data, betas.T)\n",
    "df = pd.DataFrame(df, columns = ['Sales (AUD)'])\n",
    "\n",
    "plt.figure(figsize=(10,10))\n",
    "\n",
    "plt.plot(df, '.', color = 'blue', alpha = 0.05, linewidth = 0.05)\n",
    "\n",
    "plt.xlabel('Hours after last recorded hour (h)')\n",
    "plt.ylabel('Average hourly Sales per hour(AUD)')\n",
    "plt.title('Polynomial prediction of 300 hourly sales after last recorded hour')\n",
    "\n",
    "plt.show()"
   ]
  },
  {
   "cell_type": "code",
   "execution_count": 204,
   "metadata": {
    "scrolled": false
   },
   "outputs": [
    {
     "name": "stdout",
     "output_type": "stream",
     "text": [
      "   Sales (AUD)\n",
      "0      82.3202\n",
      "1      81.7099\n",
      "2      81.1037\n",
      "3      80.5014\n",
      "4      79.9032\n",
      "..         ...\n",
      "95     41.3903\n",
      "96     41.1326\n",
      "97     40.8784\n",
      "98     40.6276\n",
      "99     40.3801\n",
      "\n",
      "[100 rows x 1 columns]\n"
     ]
    }
   ],
   "source": [
    "'''\n",
    "Predictor x = 0~100th hour, in order to compute mse.\n",
    "'''\n",
    "hour_th=0\n",
    "df = pd.DataFrame(columns=['A','B','C'])\n",
    "for i in range(hour_th,hour_th+100):\n",
    "    df.loc[i] = [i, i**2, i**3]    \n",
    "betas= np.array([beta[0], beta[1], beta[2], beta[3]])\n",
    "\n",
    "new_data = np.hstack((np.ones((df.shape[0],1)), df))\n",
    "df = np.dot(new_data, betas.T)\n",
    "pred_y_1st_100h_beta3 = pd.DataFrame(df, columns = ['Sales (AUD)'])\n",
    "\n",
    "print(pred_y_1st_100h_beta3)"
   ]
  },
  {
   "cell_type": "code",
   "execution_count": 205,
   "metadata": {
    "scrolled": false
   },
   "outputs": [
    {
     "name": "stdout",
     "output_type": "stream",
     "text": [
      "prediction on 100h (3rd degree) mse: 718.38236150\n",
      "prediction on 100h (3rd degree) r2: -0.55786452\n",
      "RMSE: 26.8027\n"
     ]
    }
   ],
   "source": [
    "true_y = Average_hourly_sales_per_day['Sales (AUD)'].iloc[:100]\n",
    "print('prediction on 100h (3rd degree) mse: {:.8f}'.format(mse(pred_y_1st_100h_beta3,true_y)))\n",
    "print('prediction on 100h (3rd degree) r2: {:.8f}'.format(r2_score(true_y, pred_y_1st_100h_beta3)))\n",
    "print('RMSE: {:.4f}'.format(np.sqrt(mse(pred_y_1st_100h_beta3,true_y))))"
   ]
  },
  {
   "cell_type": "code",
   "execution_count": 206,
   "metadata": {},
   "outputs": [
    {
     "name": "stdout",
     "output_type": "stream",
     "text": [
      "[327.46045759 264.19714369 130.76193097  82.79276663  31.7149151\n",
      "  34.9525402  359.31855315 316.8088705   66.79778075 315.80959003\n",
      " 357.94026017  78.36186317 205.95352326  47.59645683  32.73891963\n",
      " 143.2839663  338.3100373  365.13723009  62.8372687   38.96592525\n",
      " 164.48462373 340.88652218  33.06445283  78.13250859 147.92645274\n",
      "  71.94526306 252.93141918  31.76342938  50.36805921  31.23146472\n",
      " 334.78818357 225.01962396 134.70460842 356.53188251 277.53518151\n",
      " 319.28515631  31.83155242 180.19521012  39.65790889 275.8166129\n",
      "  48.73811474  63.3106855   37.03793715  79.90321445 223.79270555\n",
      " 300.25840922 131.32265427 329.32683374 108.06646503 229.91951177\n",
      "  36.68974216 194.88061396 139.83177741  63.73638377  80.50144682\n",
      " 271.20154251  41.39027541  65.63660778 366.93284092 363.26869329\n",
      " 353.99610281 276.39022122  56.25151514  42.45488457  36.02248186\n",
      " 345.866405   353.25522696  60.07040147 189.97184768  74.13996217\n",
      " 338.74336444  36.31190896 232.9745415   41.26585156  66.02192545\n",
      "  98.9236623  160.90028145  33.87276452 324.61929183  60.78902576\n",
      "  64.49117407  44.13539262 295.94686636  49.90964297  31.41660522\n",
      "  76.97196462  53.76115289 269.45931733 115.96777863 233.5847718\n",
      " 349.83322842 228.08362937 137.54524279  44.15476585 330.71175454\n",
      " 352.50717368 290.46951912  32.17211741  52.59748626  37.46772373\n",
      " 102.43307593 274.66717294  30.95719187 218.26401012  34.52672211\n",
      " 159.11494206 251.73457126 283.21313698  54.91998678  56.92882982\n",
      " 352.13047203 124.10194152 324.14099552  45.05142858 332.5381612\n",
      " 234.19472814  31.41149842 287.13875921  46.495289   337.4387403\n",
      "  31.36237284  47.88127836  91.61314848 300.79276775 301.85835587\n",
      " 270.04073846  64.1128913   56.18728475 227.4712308  333.89261902\n",
      " 326.04604553 199.18338055 152.02329399 282.64896395  32.05202\n",
      " 298.6491551  207.18502157 175.33410787  30.97551962 342.15339648\n",
      " 168.68777777 345.05280365 255.31923611 220.72258164 326.99036921\n",
      " 133.57397933  57.45010695 210.87955159 196.72393409  70.87140236\n",
      " 289.91664185  40.59911821  74.50586385 152.61105719 355.09384322\n",
      " 322.21442788  52.21687173  35.24356999 360.99846826  30.96536069\n",
      " 262.43184805  53.94176212 364.52241687 287.69611321 114.36817404\n",
      " 297.57123633  39.12389558 239.06372266 354.36383267  31.1579826\n",
      " 341.31041186 291.02148122  43.8628221   37.76319238 203.4908615\n",
      "  94.98821777 280.95153551 358.97682348  33.54061589 254.12632509\n",
      "  31.36588486  32.21234765  41.72170661 366.63869735  69.9698322\n",
      " 188.74647757 213.95757909  38.3039593   56.60452441 113.83707314\n",
      "  35.6064412  250.53583421  31.09559415  38.08994373 344.64351636\n",
      "  36.51927596  72.4880557  122.45755188 145.01974817 146.18040283\n",
      " 127.97129274 205.33780605 238.45619606 103.95534389 340.46104307\n",
      " 171.70296478  39.74224327 236.02288722  38.52129033  68.77039425\n",
      " 366.342495    48.95372472  67.97451451 254.72303327  75.3516986\n",
      " 121.91132431 201.02899875 256.51009936 303.97683129  81.44767811\n",
      "  35.9527028   84.15115517 296.48931311  47.26600694 321.72947342\n",
      "  33.2825235  158.52088511 210.26383149  93.53379183  50.80986756\n",
      "  81.89455215  37.67183256  35.77795723  53.29943608 297.03077197\n",
      "  60.07615627 202.25980381  41.95302416  30.95190778  52.35081482\n",
      "  31.04435225  76.63236039  87.37144822 165.08370818 105.48829417\n",
      " 209.03232958  77.06239712 330.25154286  51.83988336 266.54228498\n",
      "  43.38797317  83.24409384 214.57302372  31.58662308 127.41580702\n",
      " 198.56835809 286.5805297  248.73430221 362.30752386 308.67955093\n",
      "  33.66761255  96.45439692 173.51685401  53.36962023 345.4604354\n",
      " 188.13410209 257.69886194 138.68698238  57.87846305 339.1751352\n",
      "  33.99848515 118.65439585  81.70994685 276.96307963  50.00910246\n",
      " 268.2944699  245.11955748 113.30703356 159.70953151 226.24581667\n",
      "  99.92018592 252.33323466  37.21565271  39.53380126  31.31812963\n",
      " 240.88427525 178.36985649 104.46514921 185.07558489 313.28993622\n",
      " 265.37096298  37.57828694 132.44664365  36.1856392  168.08599412\n",
      "  41.91575074  36.87510497 366.0442405   46.61570137 362.62988871\n",
      " 344.23258015  33.93102345 107.03174829  52.66503072  52.98173356\n",
      "  47.32053887  37.39577151 201.64436639 320.75563571  60.52692373\n",
      "  42.72958995 148.50979437  69.56739003  49.30194183 207.80078944\n",
      "  33.06386691 246.32614117  36.1306845   67.58055197 342.98994402\n",
      " 157.33439514 243.91137552  73.66644261 346.27070583 177.15454788\n",
      "  73.58539865  44.74906248 365.44160143 275.24226126  43.00772978\n",
      "  43.1432476   30.98662924 348.26694724  39.19324235 258.88547099\n",
      "  76.20389399  58.31053785 143.86185809 350.98974635 177.76203839\n",
      " 242.09622151  75.26090634  32.85676191 231.75328541 310.22684337\n",
      "  32.25893478  50.20767376  45.68922902 253.52911819 103.4467255\n",
      " 281.51815661 251.13543557 226.85862436 149.67842549  30.9739398\n",
      "  73.24915358  34.25754597  52.03859893  64.75375048 116.50305874\n",
      " 174.72799375 172.30720966  46.22446132 100.42031075 339.60534296\n",
      "  36.49638279 294.31366487 237.84834261  41.13264315 174.12224026]\n"
     ]
    }
   ],
   "source": [
    "'''\n",
    "exam the model on test data\n",
    "'''\n",
    "row = X_test.shape[0]\n",
    "data = X_test\n",
    "betas= np.array([beta[0], beta[1], beta[2], beta[3]])\n",
    "new_data = np.hstack((np.ones((row,1)), data))\n",
    "\n",
    "print(new_data @ betas.T)\n",
    "pred_y_beta3_on_Xtrain = new_data @ betas.T\n",
    "\n",
    "# print(mse(pred_compare, compare))"
   ]
  },
  {
   "cell_type": "code",
   "execution_count": 207,
   "metadata": {},
   "outputs": [
    {
     "name": "stdout",
     "output_type": "stream",
     "text": [
      "prediction on X_test (2nd degree) mse: 1515.75532728\n",
      "prediction on X_test (3nd degree) mse: 1305.39894011\n",
      "RMSE(2nd degree): 38.9327\n",
      "RMSE(3nd degree): 36.1303\n"
     ]
    }
   ],
   "source": [
    "print('prediction on X_test (2nd degree) mse: {:.8f}'.format(mse(predd_y_beta2_on_Xtrain,y_train)))\n",
    "print('prediction on X_test (3nd degree) mse: {:.8f}'.format(mse(pred_y_beta3_on_Xtrain,y_test)))\n",
    "print('RMSE(2nd degree): {:.4f}'.format(np.sqrt(mse(predd_y_beta2_on_Xtrain,y_train))))\n",
    "print('RMSE(3nd degree): {:.4f}'.format(np.sqrt(mse(pred_y_beta3_on_Xtrain,y_test))))"
   ]
  },
  {
   "cell_type": "markdown",
   "metadata": {},
   "source": [
    "## Adjusted Polynomial: Days_after_open vs Daily sales:"
   ]
  },
  {
   "cell_type": "code",
   "execution_count": 208,
   "metadata": {},
   "outputs": [
    {
     "data": {
      "text/plain": [
       "days_after_open\n",
       "0       280.1\n",
       "1       349.9\n",
       "2       350.9\n",
       "3       315.1\n",
       "4       187.6\n",
       "        ...  \n",
       "149    2115.1\n",
       "150    2099.7\n",
       "151    1755.1\n",
       "152    1852.4\n",
       "153    1859.7\n",
       "Name: Sales (AUD), Length: 154, dtype: float64"
      ]
     },
     "execution_count": 208,
     "metadata": {},
     "output_type": "execute_result"
    }
   ],
   "source": [
    "Daily_sales = combine.groupby(['days_after_open'])['Sales (AUD)'].sum()\n",
    "Daily_sales"
   ]
  },
  {
   "cell_type": "code",
   "execution_count": 209,
   "metadata": {},
   "outputs": [
    {
     "data": {
      "image/png": "[encoded data removed]",
      "text/plain": [
       "<Figure size 720x720 with 1 Axes>"
      ]
     },
     "metadata": {
      "needs_background": "light"
     },
     "output_type": "display_data"
    }
   ],
   "source": [
    "plt.figure(figsize=(10,10))\n",
    "\n",
    "plt.plot(Daily_sales, '.-', color = 'blue', alpha = 0.5, linewidth = 0.5)\n",
    "\n",
    "plt.xlabel('Hours after last recorded hour (h)')\n",
    "plt.ylabel('Average hourly Sales per hour(AUD)')\n",
    "plt.title('Polynomial prediction of 300 hourly sales after last recorded hour')\n",
    "\n",
    "plt.show()"
   ]
  },
  {
   "cell_type": "code",
   "execution_count": 210,
   "metadata": {},
   "outputs": [
    {
     "name": "stdout",
     "output_type": "stream",
     "text": [
      "beta 0: 497.47256453\n",
      "beta 1: -23.64227829\n",
      "beta 2: 0.46571074\n",
      "beta 3: -0.00156129\n"
     ]
    },
    {
     "data": {
      "image/png": "[encoded data removed]",
      "text/plain": [
       "<Figure size 720x720 with 1 Axes>"
      ]
     },
     "metadata": {
      "needs_background": "light"
     },
     "output_type": "display_data"
    }
   ],
   "source": [
    "Daily_sales = combine.groupby(['days_after_open'])['Sales (AUD)'].sum().reset_index()\n",
    "Daily_sales['days_after_open_index'] = range(1, len(Daily_sales) + 1)\n",
    "#https://stackoverflow.com/questions/12168648/pandas-python-how-to-add-column-to-dataframe-for-index\n",
    "\n",
    "Daily_sales['days_after_open_index^2'] = Daily_sales['days_after_open_index']**2\n",
    "Daily_sales['days_after_open_index^3'] = Daily_sales['days_after_open_index']**3\n",
    "\n",
    "X = Daily_sales[['days_after_open_index','days_after_open_index^2','days_after_open_index^3']]\n",
    "y = Daily_sales['Sales (AUD)'].to_numpy()\n",
    "\n",
    "X_train, X_test, y_train, y_test = train_test_split(X, y, test_size = 0.4, random_state = 1)\n",
    "\n",
    "ones = np.ones((X_train.shape[0], 1))\n",
    "X_train = np.hstack((ones, X_train))\n",
    "\n",
    "beta = np.linalg.inv(X_train.T @ X_train) @ X_train.T @ y_train\n",
    "\n",
    "for i in range(4):\n",
    "    print('beta {}: {:.8f}'.format(i, beta[i]))    \n",
    "'''\n",
    "Predictor x = between 60th ~ 100th days.\n",
    "'''\n",
    "hour_th=60\n",
    "df = pd.DataFrame(columns=('A', 'B', 'C'))\n",
    "for i in range(hour_th,hour_th+40):\n",
    "    df.loc[i] = [i, i**2,i**3]    \n",
    "betas= np.array([beta[0], beta[1], beta[2], beta[3]])\n",
    "\n",
    "new_data = np.hstack((np.ones((df.shape[0],1)), df))\n",
    "df = np.dot(new_data, betas.T)\n",
    "prediction_daily_beta3 = pd.DataFrame(df, columns = ['Sales (AUD)'])\n",
    "\n",
    "plt.figure(figsize=(10,10))\n",
    "\n",
    "plt.plot(df, '.', color = 'blue', alpha = 0.5)\n",
    "\n",
    "plt.xlabel('Days after the 60th day')\n",
    "plt.ylabel('Daily Sales per hour(AUD)')\n",
    "plt.title('Polynomial prediction of between 60th ~ 100th daily sales')\n",
    "\n",
    "plt.show()"
   ]
  },
  {
   "cell_type": "code",
   "execution_count": 211,
   "metadata": {
    "scrolled": true
   },
   "outputs": [
    {
     "name": "stdout",
     "output_type": "stream",
     "text": [
      "mse of prediction: 16502.9852\n",
      "r2 of prediction: 0.6937\n",
      "RMSE: 128.4639\n"
     ]
    }
   ],
   "source": [
    "true_y = Daily_sales['Sales (AUD)'].iloc[60:100]\n",
    "\n",
    "print(\"mse of prediction: {:.4f}\".format(mse(prediction_daily_beta3,true_y)))\n",
    "print(\"r2 of prediction: {:.4f}\".format(r2_score(true_y,prediction_daily_beta3)))\n",
    "print('RMSE: {:.4f}'.format(np.sqrt(mse(prediction_daily_beta3,true_y))))"
   ]
  },
  {
   "cell_type": "markdown",
   "metadata": {},
   "source": [
    "## Multiple Linear Regression on Hourly sales:"
   ]
  },
  {
   "cell_type": "code",
   "execution_count": 212,
   "metadata": {},
   "outputs": [
    {
     "name": "stdout",
     "output_type": "stream",
     "text": [
      "r2 of X_train: 0.8659783830312306\n",
      "beta 0: -24.96\n",
      "beta 1: 0.41\n",
      "beta 2: 0.00\n",
      "beta 3: -0.62\n",
      "beta 4: -12.53\n",
      "beta 5: -10.54\n",
      "beta 6: 12.15\n",
      "beta 7: 2.04\n",
      "beta 8: 26.40\n",
      "beta 9: -39.52\n"
     ]
    }
   ],
   "source": [
    "from sklearn.linear_model import LinearRegression\n",
    "\n",
    "\n",
    "cl_regression.rename(columns={\"index\": \"hours_open_till_enddate\"},inplace = True)\n",
    "cl_fine =  cl_regression.iloc[:,[0,3,4,5,6,7,8,9,10,11]]\n",
    "\n",
    "X = cl_fine.iloc[:,:9].to_numpy().reshape(-1,9)\n",
    "y = cl_regression['Sales (AUD)'].to_numpy()\n",
    "linear_reg = LinearRegression()\n",
    "X_train, X_test, y_train, y_test = train_test_split(X, y, test_size = 0.4, random_state = 1)\n",
    "\n",
    "\n",
    "linear_reg.fit(X_train, y_train)\n",
    "\n",
    "pred_y = linear_reg.predict(X_test)\n",
    "r2=metrics.r2_score(y_test, pred_y)\n",
    "print('r2 of X_train: {}'. format(r2))\n",
    "print(\"beta 0: {:.2f}\".format(linear_reg.intercept_))\n",
    "\n",
    "for i in range(9):\n",
    "    print(\"beta {}: {:.2f}\".format(i+1, linear_reg.coef_[i]))"
   ]
  },
  {
   "cell_type": "code",
   "execution_count": 213,
   "metadata": {
    "scrolled": true
   },
   "outputs": [
    {
     "name": "stdout",
     "output_type": "stream",
     "text": [
      "hours_open_till_enddate\n",
      "dist_to_cafe\n",
      "day_of_week_Mon\n",
      "day_of_week_Sat\n",
      "day_of_week_Sun\n",
      "day_of_week_Thu\n",
      "day_of_week_Tue\n",
      "day_of_week_Wed\n",
      "raining_Yes\n",
      "Sales (AUD)\n"
     ]
    }
   ],
   "source": [
    "for col in cl_fine.columns:\n",
    "    print(col)"
   ]
  },
  {
   "cell_type": "code",
   "execution_count": 214,
   "metadata": {
    "scrolled": true
   },
   "outputs": [],
   "source": [
    "'''\n",
    "Hourly sales prediction on:\n",
    "3rd hour, 240 distance to cafe, Monday\n",
    "'''\n",
    "# new_X = np.array([[919, 240, 1, 0,0,0,0,0,844561,776151559]])\n",
    "new_X = np.array([[2, 77, 1, 0,0,0,0,0,1]])\n",
    "pred_y = linear_reg.predict(new_X)\n",
    "X = sm.add_constant(X)\n",
    "model = sm.OLS(y, X).fit()\n",
    "predictions = model.predict(X) \n",
    "# https://datatofish.com/multiple-linear-regression-python/\n",
    "print_model = model.summary()"
   ]
  },
  {
   "cell_type": "code",
   "execution_count": 215,
   "metadata": {},
   "outputs": [
    {
     "name": "stdout",
     "output_type": "stream",
     "text": [
      "                            OLS Regression Results                            \n",
      "==============================================================================\n",
      "Dep. Variable:                      y   R-squared:                       0.863\n",
      "Model:                            OLS   Adj. R-squared:                  0.861\n",
      "Method:                 Least Squares   F-statistic:                     638.1\n",
      "Date:                Sun, 06 Jun 2021   Prob (F-statistic):               0.00\n",
      "Time:                        17:31:08   Log-Likelihood:                -4817.5\n",
      "No. Observations:                 924   AIC:                             9655.\n",
      "Df Residuals:                     914   BIC:                             9703.\n",
      "Df Model:                           9                                         \n",
      "Covariance Type:            nonrobust                                         \n",
      "==============================================================================\n",
      "                 coef    std err          t      P>|t|      [0.025      0.975]\n",
      "------------------------------------------------------------------------------\n",
      "const        -16.5889      8.988     -1.846      0.065     -34.229       1.051\n",
      "x1             0.4112      0.006     74.486      0.000       0.400       0.422\n",
      "x2            -0.0250      0.024     -1.023      0.307      -0.073       0.023\n",
      "x3            -0.4250      5.513     -0.077      0.939     -11.244      10.394\n",
      "x4           -11.3331      5.514     -2.055      0.040     -22.154      -0.512\n",
      "x5            -9.6186      5.510     -1.746      0.081     -20.433       1.195\n",
      "x6            16.6036      5.515      3.011      0.003       5.780      27.427\n",
      "x7             6.8493      5.507      1.244      0.214      -3.959      17.658\n",
      "x8            26.7062      5.509      4.848      0.000      15.895      37.518\n",
      "x9           -45.8010      6.248     -7.330      0.000     -58.064     -33.538\n",
      "==============================================================================\n",
      "Omnibus:                      120.794   Durbin-Watson:                   0.444\n",
      "Prob(Omnibus):                  0.000   Jarque-Bera (JB):               36.260\n",
      "Skew:                           0.191   Prob(JB):                     1.34e-08\n",
      "Kurtosis:                       2.108   Cond. No.                     4.70e+03\n",
      "==============================================================================\n",
      "\n",
      "Notes:\n",
      "[1] Standard Errors assume that the covariance matrix of the errors is correctly specified.\n",
      "[2] The condition number is large, 4.7e+03. This might indicate that there are\n",
      "strong multicollinearity or other numerical problems.\n",
      "[-64.26211191]\n"
     ]
    }
   ],
   "source": [
    "print(print_model)\n",
    "print(pred_y)"
   ]
  },
  {
   "cell_type": "code",
   "execution_count": 216,
   "metadata": {},
   "outputs": [
    {
     "data": {
      "text/html": [
       "<div>\n",
       "<style scoped>\n",
       "    .dataframe tbody tr th:only-of-type {\n",
       "        vertical-align: middle;\n",
       "    }\n",
       "\n",
       "    .dataframe tbody tr th {\n",
       "        vertical-align: top;\n",
       "    }\n",
       "\n",
       "    .dataframe thead th {\n",
       "        text-align: right;\n",
       "    }\n",
       "</style>\n",
       "<table border=\"1\" class=\"dataframe\">\n",
       "  <thead>\n",
       "    <tr style=\"text-align: right;\">\n",
       "      <th></th>\n",
       "      <th>hours_open_till_enddate</th>\n",
       "      <th>Daily_transaction</th>\n",
       "      <th>hours_after_open</th>\n",
       "      <th>dist_to_cafe</th>\n",
       "      <th>day_of_week_Mon</th>\n",
       "      <th>day_of_week_Sat</th>\n",
       "      <th>day_of_week_Sun</th>\n",
       "      <th>day_of_week_Thu</th>\n",
       "      <th>day_of_week_Tue</th>\n",
       "      <th>day_of_week_Wed</th>\n",
       "      <th>raining_Yes</th>\n",
       "      <th>Sales (AUD)</th>\n",
       "    </tr>\n",
       "  </thead>\n",
       "  <tbody>\n",
       "    <tr>\n",
       "      <th>2</th>\n",
       "      <td>2</td>\n",
       "      <td>2019-07-22/2</td>\n",
       "      <td>2.0</td>\n",
       "      <td>77.0</td>\n",
       "      <td>1</td>\n",
       "      <td>0</td>\n",
       "      <td>0</td>\n",
       "      <td>0</td>\n",
       "      <td>0</td>\n",
       "      <td>0</td>\n",
       "      <td>1</td>\n",
       "      <td>37.3</td>\n",
       "    </tr>\n",
       "  </tbody>\n",
       "</table>\n",
       "</div>"
      ],
      "text/plain": [
       "   hours_open_till_enddate Daily_transaction  hours_after_open  dist_to_cafe  \\\n",
       "2                        2      2019-07-22/2               2.0          77.0   \n",
       "\n",
       "   day_of_week_Mon  day_of_week_Sat  day_of_week_Sun  day_of_week_Thu  \\\n",
       "2                1                0                0                0   \n",
       "\n",
       "   day_of_week_Tue  day_of_week_Wed  raining_Yes  Sales (AUD)  \n",
       "2                0                0            1         37.3  "
      ]
     },
     "execution_count": 216,
     "metadata": {},
     "output_type": "execute_result"
    }
   ],
   "source": [
    "# cl_regression\n",
    "check_data = cl_regression.loc[(cl_regression['dist_to_cafe'] == 77 ) & ( cl_regression['day_of_week_Mon'] == 1) & (cl_regression['hours_open_till_enddate'] == 2)]\n",
    "check_data"
   ]
  },
  {
   "cell_type": "code",
   "execution_count": null,
   "metadata": {},
   "outputs": [],
   "source": []
  },
  {
   "cell_type": "code",
   "execution_count": null,
   "metadata": {},
   "outputs": [],
   "source": []
  },
  {
   "cell_type": "code",
   "execution_count": null,
   "metadata": {},
   "outputs": [],
   "source": []
  }
 ],
 "metadata": {
  "kernelspec": {
   "display_name": "Python 3",
   "language": "python",
   "name": "python3"
  },
  "language_info": {
   "codemirror_mode": {
    "name": "ipython",
    "version": 3
   },
   "file_extension": ".py",
   "mimetype": "text/x-python",
   "name": "python",
   "nbconvert_exporter": "python",
   "pygments_lexer": "ipython3",
   "version": "3.8.5"
  }
 },
 "nbformat": 4,
 "nbformat_minor": 4
}
